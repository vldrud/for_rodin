{
  "nbformat": 4,
  "nbformat_minor": 0,
  "metadata": {
    "kernelspec": {
      "display_name": "Python 3",
      "language": "python",
      "name": "python3"
    },
    "language_info": {
      "codemirror_mode": {
        "name": "ipython",
        "version": 3
      },
      "file_extension": ".py",
      "mimetype": "text/x-python",
      "name": "python",
      "nbconvert_exporter": "python",
      "pygments_lexer": "ipython3",
      "version": "3.8.5"
    },
    "colab": {
      "name": "Rud_Vladyslav_Analyze WorkUa.ipynb",
      "provenance": [],
      "include_colab_link": true
    },
    "widgets": {
      "application/vnd.jupyter.widget-state+json": {
        "2c394012cbec4081a55782dce030af11": {
          "model_module": "@jupyter-widgets/controls",
          "model_name": "HBoxModel",
          "state": {
            "_view_name": "HBoxView",
            "_dom_classes": [],
            "_model_name": "HBoxModel",
            "_view_module": "@jupyter-widgets/controls",
            "_model_module_version": "1.5.0",
            "_view_count": null,
            "_view_module_version": "1.5.0",
            "box_style": "",
            "layout": "IPY_MODEL_3afc2299e4ff414cac1bfd719d5137f3",
            "_model_module": "@jupyter-widgets/controls",
            "children": [
              "IPY_MODEL_a7b17011a0464a7c8f48cb73a194d742",
              "IPY_MODEL_60cd0a6e5cc34552a64f2c4d072ac2d1"
            ]
          }
        },
        "3afc2299e4ff414cac1bfd719d5137f3": {
          "model_module": "@jupyter-widgets/base",
          "model_name": "LayoutModel",
          "state": {
            "_view_name": "LayoutView",
            "grid_template_rows": null,
            "right": null,
            "justify_content": null,
            "_view_module": "@jupyter-widgets/base",
            "overflow": null,
            "_model_module_version": "1.2.0",
            "_view_count": null,
            "flex_flow": null,
            "width": null,
            "min_width": null,
            "border": null,
            "align_items": null,
            "bottom": null,
            "_model_module": "@jupyter-widgets/base",
            "top": null,
            "grid_column": null,
            "overflow_y": null,
            "overflow_x": null,
            "grid_auto_flow": null,
            "grid_area": null,
            "grid_template_columns": null,
            "flex": null,
            "_model_name": "LayoutModel",
            "justify_items": null,
            "grid_row": null,
            "max_height": null,
            "align_content": null,
            "visibility": null,
            "align_self": null,
            "height": null,
            "min_height": null,
            "padding": null,
            "grid_auto_rows": null,
            "grid_gap": null,
            "max_width": null,
            "order": null,
            "_view_module_version": "1.2.0",
            "grid_template_areas": null,
            "object_position": null,
            "object_fit": null,
            "grid_auto_columns": null,
            "margin": null,
            "display": null,
            "left": null
          }
        },
        "a7b17011a0464a7c8f48cb73a194d742": {
          "model_module": "@jupyter-widgets/controls",
          "model_name": "FloatProgressModel",
          "state": {
            "_view_name": "ProgressView",
            "style": "IPY_MODEL_888c096073a94bb7af3e5843e7c701f3",
            "_dom_classes": [],
            "description": "Pandas Apply: 100%",
            "_model_name": "FloatProgressModel",
            "bar_style": "success",
            "max": 870298,
            "_view_module": "@jupyter-widgets/controls",
            "_model_module_version": "1.5.0",
            "value": 870298,
            "_view_count": null,
            "_view_module_version": "1.5.0",
            "orientation": "horizontal",
            "min": 0,
            "description_tooltip": null,
            "_model_module": "@jupyter-widgets/controls",
            "layout": "IPY_MODEL_cb1b0edf92884f28b9fc2b5f3eefd67c"
          }
        },
        "60cd0a6e5cc34552a64f2c4d072ac2d1": {
          "model_module": "@jupyter-widgets/controls",
          "model_name": "HTMLModel",
          "state": {
            "_view_name": "HTMLView",
            "style": "IPY_MODEL_a0d6ac6958874af3b041d31ee076d51b",
            "_dom_classes": [],
            "description": "",
            "_model_name": "HTMLModel",
            "placeholder": "​",
            "_view_module": "@jupyter-widgets/controls",
            "_model_module_version": "1.5.0",
            "value": " 870298/870298 [13:14&lt;00:00, 1095.61it/s]",
            "_view_count": null,
            "_view_module_version": "1.5.0",
            "description_tooltip": null,
            "_model_module": "@jupyter-widgets/controls",
            "layout": "IPY_MODEL_2dde9a5f843f46358210be5fef78bc8a"
          }
        },
        "888c096073a94bb7af3e5843e7c701f3": {
          "model_module": "@jupyter-widgets/controls",
          "model_name": "ProgressStyleModel",
          "state": {
            "_view_name": "StyleView",
            "_model_name": "ProgressStyleModel",
            "description_width": "initial",
            "_view_module": "@jupyter-widgets/base",
            "_model_module_version": "1.5.0",
            "_view_count": null,
            "_view_module_version": "1.2.0",
            "bar_color": null,
            "_model_module": "@jupyter-widgets/controls"
          }
        },
        "cb1b0edf92884f28b9fc2b5f3eefd67c": {
          "model_module": "@jupyter-widgets/base",
          "model_name": "LayoutModel",
          "state": {
            "_view_name": "LayoutView",
            "grid_template_rows": null,
            "right": null,
            "justify_content": null,
            "_view_module": "@jupyter-widgets/base",
            "overflow": null,
            "_model_module_version": "1.2.0",
            "_view_count": null,
            "flex_flow": null,
            "width": null,
            "min_width": null,
            "border": null,
            "align_items": null,
            "bottom": null,
            "_model_module": "@jupyter-widgets/base",
            "top": null,
            "grid_column": null,
            "overflow_y": null,
            "overflow_x": null,
            "grid_auto_flow": null,
            "grid_area": null,
            "grid_template_columns": null,
            "flex": null,
            "_model_name": "LayoutModel",
            "justify_items": null,
            "grid_row": null,
            "max_height": null,
            "align_content": null,
            "visibility": null,
            "align_self": null,
            "height": null,
            "min_height": null,
            "padding": null,
            "grid_auto_rows": null,
            "grid_gap": null,
            "max_width": null,
            "order": null,
            "_view_module_version": "1.2.0",
            "grid_template_areas": null,
            "object_position": null,
            "object_fit": null,
            "grid_auto_columns": null,
            "margin": null,
            "display": null,
            "left": null
          }
        },
        "a0d6ac6958874af3b041d31ee076d51b": {
          "model_module": "@jupyter-widgets/controls",
          "model_name": "DescriptionStyleModel",
          "state": {
            "_view_name": "StyleView",
            "_model_name": "DescriptionStyleModel",
            "description_width": "",
            "_view_module": "@jupyter-widgets/base",
            "_model_module_version": "1.5.0",
            "_view_count": null,
            "_view_module_version": "1.2.0",
            "_model_module": "@jupyter-widgets/controls"
          }
        },
        "2dde9a5f843f46358210be5fef78bc8a": {
          "model_module": "@jupyter-widgets/base",
          "model_name": "LayoutModel",
          "state": {
            "_view_name": "LayoutView",
            "grid_template_rows": null,
            "right": null,
            "justify_content": null,
            "_view_module": "@jupyter-widgets/base",
            "overflow": null,
            "_model_module_version": "1.2.0",
            "_view_count": null,
            "flex_flow": null,
            "width": null,
            "min_width": null,
            "border": null,
            "align_items": null,
            "bottom": null,
            "_model_module": "@jupyter-widgets/base",
            "top": null,
            "grid_column": null,
            "overflow_y": null,
            "overflow_x": null,
            "grid_auto_flow": null,
            "grid_area": null,
            "grid_template_columns": null,
            "flex": null,
            "_model_name": "LayoutModel",
            "justify_items": null,
            "grid_row": null,
            "max_height": null,
            "align_content": null,
            "visibility": null,
            "align_self": null,
            "height": null,
            "min_height": null,
            "padding": null,
            "grid_auto_rows": null,
            "grid_gap": null,
            "max_width": null,
            "order": null,
            "_view_module_version": "1.2.0",
            "grid_template_areas": null,
            "object_position": null,
            "object_fit": null,
            "grid_auto_columns": null,
            "margin": null,
            "display": null,
            "left": null
          }
        },
        "f8a783eaf68f460bad00f51d56e3a252": {
          "model_module": "@jupyter-widgets/controls",
          "model_name": "HBoxModel",
          "state": {
            "_view_name": "HBoxView",
            "_dom_classes": [],
            "_model_name": "HBoxModel",
            "_view_module": "@jupyter-widgets/controls",
            "_model_module_version": "1.5.0",
            "_view_count": null,
            "_view_module_version": "1.5.0",
            "box_style": "",
            "layout": "IPY_MODEL_334dc36c94a54ea9896a0c24547334e1",
            "_model_module": "@jupyter-widgets/controls",
            "children": [
              "IPY_MODEL_1a8ea99f99de4a7399a114d34233810f",
              "IPY_MODEL_08451d99c3614691bcf327c2419eac20"
            ]
          }
        },
        "334dc36c94a54ea9896a0c24547334e1": {
          "model_module": "@jupyter-widgets/base",
          "model_name": "LayoutModel",
          "state": {
            "_view_name": "LayoutView",
            "grid_template_rows": null,
            "right": null,
            "justify_content": null,
            "_view_module": "@jupyter-widgets/base",
            "overflow": null,
            "_model_module_version": "1.2.0",
            "_view_count": null,
            "flex_flow": null,
            "width": null,
            "min_width": null,
            "border": null,
            "align_items": null,
            "bottom": null,
            "_model_module": "@jupyter-widgets/base",
            "top": null,
            "grid_column": null,
            "overflow_y": null,
            "overflow_x": null,
            "grid_auto_flow": null,
            "grid_area": null,
            "grid_template_columns": null,
            "flex": null,
            "_model_name": "LayoutModel",
            "justify_items": null,
            "grid_row": null,
            "max_height": null,
            "align_content": null,
            "visibility": null,
            "align_self": null,
            "height": null,
            "min_height": null,
            "padding": null,
            "grid_auto_rows": null,
            "grid_gap": null,
            "max_width": null,
            "order": null,
            "_view_module_version": "1.2.0",
            "grid_template_areas": null,
            "object_position": null,
            "object_fit": null,
            "grid_auto_columns": null,
            "margin": null,
            "display": null,
            "left": null
          }
        },
        "1a8ea99f99de4a7399a114d34233810f": {
          "model_module": "@jupyter-widgets/controls",
          "model_name": "FloatProgressModel",
          "state": {
            "_view_name": "ProgressView",
            "style": "IPY_MODEL_e99a2fce7ab84a81b42e99f658fcd296",
            "_dom_classes": [],
            "description": "Pandas Apply: 100%",
            "_model_name": "FloatProgressModel",
            "bar_style": "success",
            "max": 870298,
            "_view_module": "@jupyter-widgets/controls",
            "_model_module_version": "1.5.0",
            "value": 870298,
            "_view_count": null,
            "_view_module_version": "1.5.0",
            "orientation": "horizontal",
            "min": 0,
            "description_tooltip": null,
            "_model_module": "@jupyter-widgets/controls",
            "layout": "IPY_MODEL_268f49068bfc4ccbabf856f3f73d1964"
          }
        },
        "08451d99c3614691bcf327c2419eac20": {
          "model_module": "@jupyter-widgets/controls",
          "model_name": "HTMLModel",
          "state": {
            "_view_name": "HTMLView",
            "style": "IPY_MODEL_c2ad1463c14c4a5fbf786a385f676d85",
            "_dom_classes": [],
            "description": "",
            "_model_name": "HTMLModel",
            "placeholder": "​",
            "_view_module": "@jupyter-widgets/controls",
            "_model_module_version": "1.5.0",
            "value": " 870298/870298 [00:18&lt;00:00, 46601.90it/s]",
            "_view_count": null,
            "_view_module_version": "1.5.0",
            "description_tooltip": null,
            "_model_module": "@jupyter-widgets/controls",
            "layout": "IPY_MODEL_248b8f93e4c846a7b0c86bd64ccacaed"
          }
        },
        "e99a2fce7ab84a81b42e99f658fcd296": {
          "model_module": "@jupyter-widgets/controls",
          "model_name": "ProgressStyleModel",
          "state": {
            "_view_name": "StyleView",
            "_model_name": "ProgressStyleModel",
            "description_width": "initial",
            "_view_module": "@jupyter-widgets/base",
            "_model_module_version": "1.5.0",
            "_view_count": null,
            "_view_module_version": "1.2.0",
            "bar_color": null,
            "_model_module": "@jupyter-widgets/controls"
          }
        },
        "268f49068bfc4ccbabf856f3f73d1964": {
          "model_module": "@jupyter-widgets/base",
          "model_name": "LayoutModel",
          "state": {
            "_view_name": "LayoutView",
            "grid_template_rows": null,
            "right": null,
            "justify_content": null,
            "_view_module": "@jupyter-widgets/base",
            "overflow": null,
            "_model_module_version": "1.2.0",
            "_view_count": null,
            "flex_flow": null,
            "width": null,
            "min_width": null,
            "border": null,
            "align_items": null,
            "bottom": null,
            "_model_module": "@jupyter-widgets/base",
            "top": null,
            "grid_column": null,
            "overflow_y": null,
            "overflow_x": null,
            "grid_auto_flow": null,
            "grid_area": null,
            "grid_template_columns": null,
            "flex": null,
            "_model_name": "LayoutModel",
            "justify_items": null,
            "grid_row": null,
            "max_height": null,
            "align_content": null,
            "visibility": null,
            "align_self": null,
            "height": null,
            "min_height": null,
            "padding": null,
            "grid_auto_rows": null,
            "grid_gap": null,
            "max_width": null,
            "order": null,
            "_view_module_version": "1.2.0",
            "grid_template_areas": null,
            "object_position": null,
            "object_fit": null,
            "grid_auto_columns": null,
            "margin": null,
            "display": null,
            "left": null
          }
        },
        "c2ad1463c14c4a5fbf786a385f676d85": {
          "model_module": "@jupyter-widgets/controls",
          "model_name": "DescriptionStyleModel",
          "state": {
            "_view_name": "StyleView",
            "_model_name": "DescriptionStyleModel",
            "description_width": "",
            "_view_module": "@jupyter-widgets/base",
            "_model_module_version": "1.5.0",
            "_view_count": null,
            "_view_module_version": "1.2.0",
            "_model_module": "@jupyter-widgets/controls"
          }
        },
        "248b8f93e4c846a7b0c86bd64ccacaed": {
          "model_module": "@jupyter-widgets/base",
          "model_name": "LayoutModel",
          "state": {
            "_view_name": "LayoutView",
            "grid_template_rows": null,
            "right": null,
            "justify_content": null,
            "_view_module": "@jupyter-widgets/base",
            "overflow": null,
            "_model_module_version": "1.2.0",
            "_view_count": null,
            "flex_flow": null,
            "width": null,
            "min_width": null,
            "border": null,
            "align_items": null,
            "bottom": null,
            "_model_module": "@jupyter-widgets/base",
            "top": null,
            "grid_column": null,
            "overflow_y": null,
            "overflow_x": null,
            "grid_auto_flow": null,
            "grid_area": null,
            "grid_template_columns": null,
            "flex": null,
            "_model_name": "LayoutModel",
            "justify_items": null,
            "grid_row": null,
            "max_height": null,
            "align_content": null,
            "visibility": null,
            "align_self": null,
            "height": null,
            "min_height": null,
            "padding": null,
            "grid_auto_rows": null,
            "grid_gap": null,
            "max_width": null,
            "order": null,
            "_view_module_version": "1.2.0",
            "grid_template_areas": null,
            "object_position": null,
            "object_fit": null,
            "grid_auto_columns": null,
            "margin": null,
            "display": null,
            "left": null
          }
        },
        "51bc048297fb4f62a5e711a27676e899": {
          "model_module": "@jupyter-widgets/controls",
          "model_name": "HBoxModel",
          "state": {
            "_view_name": "HBoxView",
            "_dom_classes": [],
            "_model_name": "HBoxModel",
            "_view_module": "@jupyter-widgets/controls",
            "_model_module_version": "1.5.0",
            "_view_count": null,
            "_view_module_version": "1.5.0",
            "box_style": "",
            "layout": "IPY_MODEL_5ea51ecadd754e178d19137545fbb888",
            "_model_module": "@jupyter-widgets/controls",
            "children": [
              "IPY_MODEL_92707f3c46d945f8ab3203ff26d6e7b1",
              "IPY_MODEL_936e6c1566194af58eb1e9a48bed2566"
            ]
          }
        },
        "5ea51ecadd754e178d19137545fbb888": {
          "model_module": "@jupyter-widgets/base",
          "model_name": "LayoutModel",
          "state": {
            "_view_name": "LayoutView",
            "grid_template_rows": null,
            "right": null,
            "justify_content": null,
            "_view_module": "@jupyter-widgets/base",
            "overflow": null,
            "_model_module_version": "1.2.0",
            "_view_count": null,
            "flex_flow": null,
            "width": null,
            "min_width": null,
            "border": null,
            "align_items": null,
            "bottom": null,
            "_model_module": "@jupyter-widgets/base",
            "top": null,
            "grid_column": null,
            "overflow_y": null,
            "overflow_x": null,
            "grid_auto_flow": null,
            "grid_area": null,
            "grid_template_columns": null,
            "flex": null,
            "_model_name": "LayoutModel",
            "justify_items": null,
            "grid_row": null,
            "max_height": null,
            "align_content": null,
            "visibility": null,
            "align_self": null,
            "height": null,
            "min_height": null,
            "padding": null,
            "grid_auto_rows": null,
            "grid_gap": null,
            "max_width": null,
            "order": null,
            "_view_module_version": "1.2.0",
            "grid_template_areas": null,
            "object_position": null,
            "object_fit": null,
            "grid_auto_columns": null,
            "margin": null,
            "display": null,
            "left": null
          }
        },
        "92707f3c46d945f8ab3203ff26d6e7b1": {
          "model_module": "@jupyter-widgets/controls",
          "model_name": "FloatProgressModel",
          "state": {
            "_view_name": "ProgressView",
            "style": "IPY_MODEL_246b8e5917ae424da0e0fd6bcb617ea5",
            "_dom_classes": [],
            "description": "Pandas Apply: 100%",
            "_model_name": "FloatProgressModel",
            "bar_style": "success",
            "max": 870298,
            "_view_module": "@jupyter-widgets/controls",
            "_model_module_version": "1.5.0",
            "value": 870298,
            "_view_count": null,
            "_view_module_version": "1.5.0",
            "orientation": "horizontal",
            "min": 0,
            "description_tooltip": null,
            "_model_module": "@jupyter-widgets/controls",
            "layout": "IPY_MODEL_b453b0155e594ef08bd4f255b53c30e1"
          }
        },
        "936e6c1566194af58eb1e9a48bed2566": {
          "model_module": "@jupyter-widgets/controls",
          "model_name": "HTMLModel",
          "state": {
            "_view_name": "HTMLView",
            "style": "IPY_MODEL_cce27763fa55462dae2e259e29ded7f4",
            "_dom_classes": [],
            "description": "",
            "_model_name": "HTMLModel",
            "placeholder": "​",
            "_view_module": "@jupyter-widgets/controls",
            "_model_module_version": "1.5.0",
            "value": " 870298/870298 [00:03&lt;00:00, 224611.84it/s]",
            "_view_count": null,
            "_view_module_version": "1.5.0",
            "description_tooltip": null,
            "_model_module": "@jupyter-widgets/controls",
            "layout": "IPY_MODEL_17023c4f2e7d45888a8af27143f79524"
          }
        },
        "246b8e5917ae424da0e0fd6bcb617ea5": {
          "model_module": "@jupyter-widgets/controls",
          "model_name": "ProgressStyleModel",
          "state": {
            "_view_name": "StyleView",
            "_model_name": "ProgressStyleModel",
            "description_width": "initial",
            "_view_module": "@jupyter-widgets/base",
            "_model_module_version": "1.5.0",
            "_view_count": null,
            "_view_module_version": "1.2.0",
            "bar_color": null,
            "_model_module": "@jupyter-widgets/controls"
          }
        },
        "b453b0155e594ef08bd4f255b53c30e1": {
          "model_module": "@jupyter-widgets/base",
          "model_name": "LayoutModel",
          "state": {
            "_view_name": "LayoutView",
            "grid_template_rows": null,
            "right": null,
            "justify_content": null,
            "_view_module": "@jupyter-widgets/base",
            "overflow": null,
            "_model_module_version": "1.2.0",
            "_view_count": null,
            "flex_flow": null,
            "width": null,
            "min_width": null,
            "border": null,
            "align_items": null,
            "bottom": null,
            "_model_module": "@jupyter-widgets/base",
            "top": null,
            "grid_column": null,
            "overflow_y": null,
            "overflow_x": null,
            "grid_auto_flow": null,
            "grid_area": null,
            "grid_template_columns": null,
            "flex": null,
            "_model_name": "LayoutModel",
            "justify_items": null,
            "grid_row": null,
            "max_height": null,
            "align_content": null,
            "visibility": null,
            "align_self": null,
            "height": null,
            "min_height": null,
            "padding": null,
            "grid_auto_rows": null,
            "grid_gap": null,
            "max_width": null,
            "order": null,
            "_view_module_version": "1.2.0",
            "grid_template_areas": null,
            "object_position": null,
            "object_fit": null,
            "grid_auto_columns": null,
            "margin": null,
            "display": null,
            "left": null
          }
        },
        "cce27763fa55462dae2e259e29ded7f4": {
          "model_module": "@jupyter-widgets/controls",
          "model_name": "DescriptionStyleModel",
          "state": {
            "_view_name": "StyleView",
            "_model_name": "DescriptionStyleModel",
            "description_width": "",
            "_view_module": "@jupyter-widgets/base",
            "_model_module_version": "1.5.0",
            "_view_count": null,
            "_view_module_version": "1.2.0",
            "_model_module": "@jupyter-widgets/controls"
          }
        },
        "17023c4f2e7d45888a8af27143f79524": {
          "model_module": "@jupyter-widgets/base",
          "model_name": "LayoutModel",
          "state": {
            "_view_name": "LayoutView",
            "grid_template_rows": null,
            "right": null,
            "justify_content": null,
            "_view_module": "@jupyter-widgets/base",
            "overflow": null,
            "_model_module_version": "1.2.0",
            "_view_count": null,
            "flex_flow": null,
            "width": null,
            "min_width": null,
            "border": null,
            "align_items": null,
            "bottom": null,
            "_model_module": "@jupyter-widgets/base",
            "top": null,
            "grid_column": null,
            "overflow_y": null,
            "overflow_x": null,
            "grid_auto_flow": null,
            "grid_area": null,
            "grid_template_columns": null,
            "flex": null,
            "_model_name": "LayoutModel",
            "justify_items": null,
            "grid_row": null,
            "max_height": null,
            "align_content": null,
            "visibility": null,
            "align_self": null,
            "height": null,
            "min_height": null,
            "padding": null,
            "grid_auto_rows": null,
            "grid_gap": null,
            "max_width": null,
            "order": null,
            "_view_module_version": "1.2.0",
            "grid_template_areas": null,
            "object_position": null,
            "object_fit": null,
            "grid_auto_columns": null,
            "margin": null,
            "display": null,
            "left": null
          }
        },
        "8f0fabaacaf545388332b2bd471b9d3b": {
          "model_module": "@jupyter-widgets/controls",
          "model_name": "HBoxModel",
          "state": {
            "_view_name": "HBoxView",
            "_dom_classes": [],
            "_model_name": "HBoxModel",
            "_view_module": "@jupyter-widgets/controls",
            "_model_module_version": "1.5.0",
            "_view_count": null,
            "_view_module_version": "1.5.0",
            "box_style": "",
            "layout": "IPY_MODEL_76f2f71494154224a6931d8a97d48d41",
            "_model_module": "@jupyter-widgets/controls",
            "children": [
              "IPY_MODEL_7f8ac898dad445c28ea3fd51a346f84a",
              "IPY_MODEL_5fa33f03db0d43608d0d7699080c7a53"
            ]
          }
        },
        "76f2f71494154224a6931d8a97d48d41": {
          "model_module": "@jupyter-widgets/base",
          "model_name": "LayoutModel",
          "state": {
            "_view_name": "LayoutView",
            "grid_template_rows": null,
            "right": null,
            "justify_content": null,
            "_view_module": "@jupyter-widgets/base",
            "overflow": null,
            "_model_module_version": "1.2.0",
            "_view_count": null,
            "flex_flow": null,
            "width": null,
            "min_width": null,
            "border": null,
            "align_items": null,
            "bottom": null,
            "_model_module": "@jupyter-widgets/base",
            "top": null,
            "grid_column": null,
            "overflow_y": null,
            "overflow_x": null,
            "grid_auto_flow": null,
            "grid_area": null,
            "grid_template_columns": null,
            "flex": null,
            "_model_name": "LayoutModel",
            "justify_items": null,
            "grid_row": null,
            "max_height": null,
            "align_content": null,
            "visibility": null,
            "align_self": null,
            "height": null,
            "min_height": null,
            "padding": null,
            "grid_auto_rows": null,
            "grid_gap": null,
            "max_width": null,
            "order": null,
            "_view_module_version": "1.2.0",
            "grid_template_areas": null,
            "object_position": null,
            "object_fit": null,
            "grid_auto_columns": null,
            "margin": null,
            "display": null,
            "left": null
          }
        },
        "7f8ac898dad445c28ea3fd51a346f84a": {
          "model_module": "@jupyter-widgets/controls",
          "model_name": "FloatProgressModel",
          "state": {
            "_view_name": "ProgressView",
            "style": "IPY_MODEL_eeddc44fedde4ac88e4a6008aaff60b8",
            "_dom_classes": [],
            "description": "Pandas Apply: 100%",
            "_model_name": "FloatProgressModel",
            "bar_style": "success",
            "max": 870298,
            "_view_module": "@jupyter-widgets/controls",
            "_model_module_version": "1.5.0",
            "value": 870298,
            "_view_count": null,
            "_view_module_version": "1.5.0",
            "orientation": "horizontal",
            "min": 0,
            "description_tooltip": null,
            "_model_module": "@jupyter-widgets/controls",
            "layout": "IPY_MODEL_58dfb1c20dc74966bfa34242a69486d4"
          }
        },
        "5fa33f03db0d43608d0d7699080c7a53": {
          "model_module": "@jupyter-widgets/controls",
          "model_name": "HTMLModel",
          "state": {
            "_view_name": "HTMLView",
            "style": "IPY_MODEL_c15fadeca06e420fb42919a671bb9e0d",
            "_dom_classes": [],
            "description": "",
            "_model_name": "HTMLModel",
            "placeholder": "​",
            "_view_module": "@jupyter-widgets/controls",
            "_model_module_version": "1.5.0",
            "value": " 870298/870298 [00:14&lt;00:00, 58804.73it/s]",
            "_view_count": null,
            "_view_module_version": "1.5.0",
            "description_tooltip": null,
            "_model_module": "@jupyter-widgets/controls",
            "layout": "IPY_MODEL_f3848d12647642d3938dbbbbe382d80a"
          }
        },
        "eeddc44fedde4ac88e4a6008aaff60b8": {
          "model_module": "@jupyter-widgets/controls",
          "model_name": "ProgressStyleModel",
          "state": {
            "_view_name": "StyleView",
            "_model_name": "ProgressStyleModel",
            "description_width": "initial",
            "_view_module": "@jupyter-widgets/base",
            "_model_module_version": "1.5.0",
            "_view_count": null,
            "_view_module_version": "1.2.0",
            "bar_color": null,
            "_model_module": "@jupyter-widgets/controls"
          }
        },
        "58dfb1c20dc74966bfa34242a69486d4": {
          "model_module": "@jupyter-widgets/base",
          "model_name": "LayoutModel",
          "state": {
            "_view_name": "LayoutView",
            "grid_template_rows": null,
            "right": null,
            "justify_content": null,
            "_view_module": "@jupyter-widgets/base",
            "overflow": null,
            "_model_module_version": "1.2.0",
            "_view_count": null,
            "flex_flow": null,
            "width": null,
            "min_width": null,
            "border": null,
            "align_items": null,
            "bottom": null,
            "_model_module": "@jupyter-widgets/base",
            "top": null,
            "grid_column": null,
            "overflow_y": null,
            "overflow_x": null,
            "grid_auto_flow": null,
            "grid_area": null,
            "grid_template_columns": null,
            "flex": null,
            "_model_name": "LayoutModel",
            "justify_items": null,
            "grid_row": null,
            "max_height": null,
            "align_content": null,
            "visibility": null,
            "align_self": null,
            "height": null,
            "min_height": null,
            "padding": null,
            "grid_auto_rows": null,
            "grid_gap": null,
            "max_width": null,
            "order": null,
            "_view_module_version": "1.2.0",
            "grid_template_areas": null,
            "object_position": null,
            "object_fit": null,
            "grid_auto_columns": null,
            "margin": null,
            "display": null,
            "left": null
          }
        },
        "c15fadeca06e420fb42919a671bb9e0d": {
          "model_module": "@jupyter-widgets/controls",
          "model_name": "DescriptionStyleModel",
          "state": {
            "_view_name": "StyleView",
            "_model_name": "DescriptionStyleModel",
            "description_width": "",
            "_view_module": "@jupyter-widgets/base",
            "_model_module_version": "1.5.0",
            "_view_count": null,
            "_view_module_version": "1.2.0",
            "_model_module": "@jupyter-widgets/controls"
          }
        },
        "f3848d12647642d3938dbbbbe382d80a": {
          "model_module": "@jupyter-widgets/base",
          "model_name": "LayoutModel",
          "state": {
            "_view_name": "LayoutView",
            "grid_template_rows": null,
            "right": null,
            "justify_content": null,
            "_view_module": "@jupyter-widgets/base",
            "overflow": null,
            "_model_module_version": "1.2.0",
            "_view_count": null,
            "flex_flow": null,
            "width": null,
            "min_width": null,
            "border": null,
            "align_items": null,
            "bottom": null,
            "_model_module": "@jupyter-widgets/base",
            "top": null,
            "grid_column": null,
            "overflow_y": null,
            "overflow_x": null,
            "grid_auto_flow": null,
            "grid_area": null,
            "grid_template_columns": null,
            "flex": null,
            "_model_name": "LayoutModel",
            "justify_items": null,
            "grid_row": null,
            "max_height": null,
            "align_content": null,
            "visibility": null,
            "align_self": null,
            "height": null,
            "min_height": null,
            "padding": null,
            "grid_auto_rows": null,
            "grid_gap": null,
            "max_width": null,
            "order": null,
            "_view_module_version": "1.2.0",
            "grid_template_areas": null,
            "object_position": null,
            "object_fit": null,
            "grid_auto_columns": null,
            "margin": null,
            "display": null,
            "left": null
          }
        },
        "7c9da2ab89a5463c8ddb9252ffa01802": {
          "model_module": "@jupyter-widgets/controls",
          "model_name": "HBoxModel",
          "state": {
            "_view_name": "HBoxView",
            "_dom_classes": [],
            "_model_name": "HBoxModel",
            "_view_module": "@jupyter-widgets/controls",
            "_model_module_version": "1.5.0",
            "_view_count": null,
            "_view_module_version": "1.5.0",
            "box_style": "",
            "layout": "IPY_MODEL_b3f28e13b06742c1bbddcb3c8c795118",
            "_model_module": "@jupyter-widgets/controls",
            "children": [
              "IPY_MODEL_72b4388c9895488589e38b0008696004",
              "IPY_MODEL_22353a9501124d6fa4db25c5ecb37375"
            ]
          }
        },
        "b3f28e13b06742c1bbddcb3c8c795118": {
          "model_module": "@jupyter-widgets/base",
          "model_name": "LayoutModel",
          "state": {
            "_view_name": "LayoutView",
            "grid_template_rows": null,
            "right": null,
            "justify_content": null,
            "_view_module": "@jupyter-widgets/base",
            "overflow": null,
            "_model_module_version": "1.2.0",
            "_view_count": null,
            "flex_flow": null,
            "width": null,
            "min_width": null,
            "border": null,
            "align_items": null,
            "bottom": null,
            "_model_module": "@jupyter-widgets/base",
            "top": null,
            "grid_column": null,
            "overflow_y": null,
            "overflow_x": null,
            "grid_auto_flow": null,
            "grid_area": null,
            "grid_template_columns": null,
            "flex": null,
            "_model_name": "LayoutModel",
            "justify_items": null,
            "grid_row": null,
            "max_height": null,
            "align_content": null,
            "visibility": null,
            "align_self": null,
            "height": null,
            "min_height": null,
            "padding": null,
            "grid_auto_rows": null,
            "grid_gap": null,
            "max_width": null,
            "order": null,
            "_view_module_version": "1.2.0",
            "grid_template_areas": null,
            "object_position": null,
            "object_fit": null,
            "grid_auto_columns": null,
            "margin": null,
            "display": null,
            "left": null
          }
        },
        "72b4388c9895488589e38b0008696004": {
          "model_module": "@jupyter-widgets/controls",
          "model_name": "FloatProgressModel",
          "state": {
            "_view_name": "ProgressView",
            "style": "IPY_MODEL_bd6bc146fb9e4e82b541982e7d18739a",
            "_dom_classes": [],
            "description": "Pandas Apply: 100%",
            "_model_name": "FloatProgressModel",
            "bar_style": "success",
            "max": 870298,
            "_view_module": "@jupyter-widgets/controls",
            "_model_module_version": "1.5.0",
            "value": 870298,
            "_view_count": null,
            "_view_module_version": "1.5.0",
            "orientation": "horizontal",
            "min": 0,
            "description_tooltip": null,
            "_model_module": "@jupyter-widgets/controls",
            "layout": "IPY_MODEL_037e158db47543dea50df612d990418e"
          }
        },
        "22353a9501124d6fa4db25c5ecb37375": {
          "model_module": "@jupyter-widgets/controls",
          "model_name": "HTMLModel",
          "state": {
            "_view_name": "HTMLView",
            "style": "IPY_MODEL_bf3d69fcb2e7441b9a0390a9ec61fd75",
            "_dom_classes": [],
            "description": "",
            "_model_name": "HTMLModel",
            "placeholder": "​",
            "_view_module": "@jupyter-widgets/controls",
            "_model_module_version": "1.5.0",
            "value": " 870298/870298 [00:12&lt;00:00, 67522.40it/s]",
            "_view_count": null,
            "_view_module_version": "1.5.0",
            "description_tooltip": null,
            "_model_module": "@jupyter-widgets/controls",
            "layout": "IPY_MODEL_656bdefbf23d4d14ac2af0e25f1f2b35"
          }
        },
        "bd6bc146fb9e4e82b541982e7d18739a": {
          "model_module": "@jupyter-widgets/controls",
          "model_name": "ProgressStyleModel",
          "state": {
            "_view_name": "StyleView",
            "_model_name": "ProgressStyleModel",
            "description_width": "initial",
            "_view_module": "@jupyter-widgets/base",
            "_model_module_version": "1.5.0",
            "_view_count": null,
            "_view_module_version": "1.2.0",
            "bar_color": null,
            "_model_module": "@jupyter-widgets/controls"
          }
        },
        "037e158db47543dea50df612d990418e": {
          "model_module": "@jupyter-widgets/base",
          "model_name": "LayoutModel",
          "state": {
            "_view_name": "LayoutView",
            "grid_template_rows": null,
            "right": null,
            "justify_content": null,
            "_view_module": "@jupyter-widgets/base",
            "overflow": null,
            "_model_module_version": "1.2.0",
            "_view_count": null,
            "flex_flow": null,
            "width": null,
            "min_width": null,
            "border": null,
            "align_items": null,
            "bottom": null,
            "_model_module": "@jupyter-widgets/base",
            "top": null,
            "grid_column": null,
            "overflow_y": null,
            "overflow_x": null,
            "grid_auto_flow": null,
            "grid_area": null,
            "grid_template_columns": null,
            "flex": null,
            "_model_name": "LayoutModel",
            "justify_items": null,
            "grid_row": null,
            "max_height": null,
            "align_content": null,
            "visibility": null,
            "align_self": null,
            "height": null,
            "min_height": null,
            "padding": null,
            "grid_auto_rows": null,
            "grid_gap": null,
            "max_width": null,
            "order": null,
            "_view_module_version": "1.2.0",
            "grid_template_areas": null,
            "object_position": null,
            "object_fit": null,
            "grid_auto_columns": null,
            "margin": null,
            "display": null,
            "left": null
          }
        },
        "bf3d69fcb2e7441b9a0390a9ec61fd75": {
          "model_module": "@jupyter-widgets/controls",
          "model_name": "DescriptionStyleModel",
          "state": {
            "_view_name": "StyleView",
            "_model_name": "DescriptionStyleModel",
            "description_width": "",
            "_view_module": "@jupyter-widgets/base",
            "_model_module_version": "1.5.0",
            "_view_count": null,
            "_view_module_version": "1.2.0",
            "_model_module": "@jupyter-widgets/controls"
          }
        },
        "656bdefbf23d4d14ac2af0e25f1f2b35": {
          "model_module": "@jupyter-widgets/base",
          "model_name": "LayoutModel",
          "state": {
            "_view_name": "LayoutView",
            "grid_template_rows": null,
            "right": null,
            "justify_content": null,
            "_view_module": "@jupyter-widgets/base",
            "overflow": null,
            "_model_module_version": "1.2.0",
            "_view_count": null,
            "flex_flow": null,
            "width": null,
            "min_width": null,
            "border": null,
            "align_items": null,
            "bottom": null,
            "_model_module": "@jupyter-widgets/base",
            "top": null,
            "grid_column": null,
            "overflow_y": null,
            "overflow_x": null,
            "grid_auto_flow": null,
            "grid_area": null,
            "grid_template_columns": null,
            "flex": null,
            "_model_name": "LayoutModel",
            "justify_items": null,
            "grid_row": null,
            "max_height": null,
            "align_content": null,
            "visibility": null,
            "align_self": null,
            "height": null,
            "min_height": null,
            "padding": null,
            "grid_auto_rows": null,
            "grid_gap": null,
            "max_width": null,
            "order": null,
            "_view_module_version": "1.2.0",
            "grid_template_areas": null,
            "object_position": null,
            "object_fit": null,
            "grid_auto_columns": null,
            "margin": null,
            "display": null,
            "left": null
          }
        },
        "0b2eae0dc65b400da555c61f5245a7d2": {
          "model_module": "@jupyter-widgets/controls",
          "model_name": "HBoxModel",
          "state": {
            "_view_name": "HBoxView",
            "_dom_classes": [],
            "_model_name": "HBoxModel",
            "_view_module": "@jupyter-widgets/controls",
            "_model_module_version": "1.5.0",
            "_view_count": null,
            "_view_module_version": "1.5.0",
            "box_style": "",
            "layout": "IPY_MODEL_2b02a50cf3af4c65a2e9cac093db5f73",
            "_model_module": "@jupyter-widgets/controls",
            "children": [
              "IPY_MODEL_ce3410e26f4644c5850d900d7219fbdd",
              "IPY_MODEL_da57f5abb71d4210b5baf221c972d54b"
            ]
          }
        },
        "2b02a50cf3af4c65a2e9cac093db5f73": {
          "model_module": "@jupyter-widgets/base",
          "model_name": "LayoutModel",
          "state": {
            "_view_name": "LayoutView",
            "grid_template_rows": null,
            "right": null,
            "justify_content": null,
            "_view_module": "@jupyter-widgets/base",
            "overflow": null,
            "_model_module_version": "1.2.0",
            "_view_count": null,
            "flex_flow": null,
            "width": null,
            "min_width": null,
            "border": null,
            "align_items": null,
            "bottom": null,
            "_model_module": "@jupyter-widgets/base",
            "top": null,
            "grid_column": null,
            "overflow_y": null,
            "overflow_x": null,
            "grid_auto_flow": null,
            "grid_area": null,
            "grid_template_columns": null,
            "flex": null,
            "_model_name": "LayoutModel",
            "justify_items": null,
            "grid_row": null,
            "max_height": null,
            "align_content": null,
            "visibility": null,
            "align_self": null,
            "height": null,
            "min_height": null,
            "padding": null,
            "grid_auto_rows": null,
            "grid_gap": null,
            "max_width": null,
            "order": null,
            "_view_module_version": "1.2.0",
            "grid_template_areas": null,
            "object_position": null,
            "object_fit": null,
            "grid_auto_columns": null,
            "margin": null,
            "display": null,
            "left": null
          }
        },
        "ce3410e26f4644c5850d900d7219fbdd": {
          "model_module": "@jupyter-widgets/controls",
          "model_name": "FloatProgressModel",
          "state": {
            "_view_name": "ProgressView",
            "style": "IPY_MODEL_19178173c6f249278fa861737ac9d702",
            "_dom_classes": [],
            "description": "Pandas Apply: 100%",
            "_model_name": "FloatProgressModel",
            "bar_style": "success",
            "max": 870298,
            "_view_module": "@jupyter-widgets/controls",
            "_model_module_version": "1.5.0",
            "value": 870298,
            "_view_count": null,
            "_view_module_version": "1.5.0",
            "orientation": "horizontal",
            "min": 0,
            "description_tooltip": null,
            "_model_module": "@jupyter-widgets/controls",
            "layout": "IPY_MODEL_638b7d0f31e64a39877dd5e4e5118aba"
          }
        },
        "da57f5abb71d4210b5baf221c972d54b": {
          "model_module": "@jupyter-widgets/controls",
          "model_name": "HTMLModel",
          "state": {
            "_view_name": "HTMLView",
            "style": "IPY_MODEL_bb807d896af346a6a42d4e1ea6517083",
            "_dom_classes": [],
            "description": "",
            "_model_name": "HTMLModel",
            "placeholder": "​",
            "_view_module": "@jupyter-widgets/controls",
            "_model_module_version": "1.5.0",
            "value": " 870298/870298 [00:06&lt;00:00, 136318.79it/s]",
            "_view_count": null,
            "_view_module_version": "1.5.0",
            "description_tooltip": null,
            "_model_module": "@jupyter-widgets/controls",
            "layout": "IPY_MODEL_df174170abdd4cdca2faf66707273eb1"
          }
        },
        "19178173c6f249278fa861737ac9d702": {
          "model_module": "@jupyter-widgets/controls",
          "model_name": "ProgressStyleModel",
          "state": {
            "_view_name": "StyleView",
            "_model_name": "ProgressStyleModel",
            "description_width": "initial",
            "_view_module": "@jupyter-widgets/base",
            "_model_module_version": "1.5.0",
            "_view_count": null,
            "_view_module_version": "1.2.0",
            "bar_color": null,
            "_model_module": "@jupyter-widgets/controls"
          }
        },
        "638b7d0f31e64a39877dd5e4e5118aba": {
          "model_module": "@jupyter-widgets/base",
          "model_name": "LayoutModel",
          "state": {
            "_view_name": "LayoutView",
            "grid_template_rows": null,
            "right": null,
            "justify_content": null,
            "_view_module": "@jupyter-widgets/base",
            "overflow": null,
            "_model_module_version": "1.2.0",
            "_view_count": null,
            "flex_flow": null,
            "width": null,
            "min_width": null,
            "border": null,
            "align_items": null,
            "bottom": null,
            "_model_module": "@jupyter-widgets/base",
            "top": null,
            "grid_column": null,
            "overflow_y": null,
            "overflow_x": null,
            "grid_auto_flow": null,
            "grid_area": null,
            "grid_template_columns": null,
            "flex": null,
            "_model_name": "LayoutModel",
            "justify_items": null,
            "grid_row": null,
            "max_height": null,
            "align_content": null,
            "visibility": null,
            "align_self": null,
            "height": null,
            "min_height": null,
            "padding": null,
            "grid_auto_rows": null,
            "grid_gap": null,
            "max_width": null,
            "order": null,
            "_view_module_version": "1.2.0",
            "grid_template_areas": null,
            "object_position": null,
            "object_fit": null,
            "grid_auto_columns": null,
            "margin": null,
            "display": null,
            "left": null
          }
        },
        "bb807d896af346a6a42d4e1ea6517083": {
          "model_module": "@jupyter-widgets/controls",
          "model_name": "DescriptionStyleModel",
          "state": {
            "_view_name": "StyleView",
            "_model_name": "DescriptionStyleModel",
            "description_width": "",
            "_view_module": "@jupyter-widgets/base",
            "_model_module_version": "1.5.0",
            "_view_count": null,
            "_view_module_version": "1.2.0",
            "_model_module": "@jupyter-widgets/controls"
          }
        },
        "df174170abdd4cdca2faf66707273eb1": {
          "model_module": "@jupyter-widgets/base",
          "model_name": "LayoutModel",
          "state": {
            "_view_name": "LayoutView",
            "grid_template_rows": null,
            "right": null,
            "justify_content": null,
            "_view_module": "@jupyter-widgets/base",
            "overflow": null,
            "_model_module_version": "1.2.0",
            "_view_count": null,
            "flex_flow": null,
            "width": null,
            "min_width": null,
            "border": null,
            "align_items": null,
            "bottom": null,
            "_model_module": "@jupyter-widgets/base",
            "top": null,
            "grid_column": null,
            "overflow_y": null,
            "overflow_x": null,
            "grid_auto_flow": null,
            "grid_area": null,
            "grid_template_columns": null,
            "flex": null,
            "_model_name": "LayoutModel",
            "justify_items": null,
            "grid_row": null,
            "max_height": null,
            "align_content": null,
            "visibility": null,
            "align_self": null,
            "height": null,
            "min_height": null,
            "padding": null,
            "grid_auto_rows": null,
            "grid_gap": null,
            "max_width": null,
            "order": null,
            "_view_module_version": "1.2.0",
            "grid_template_areas": null,
            "object_position": null,
            "object_fit": null,
            "grid_auto_columns": null,
            "margin": null,
            "display": null,
            "left": null
          }
        },
        "e2b61e85d88543448204fd1b5526ce97": {
          "model_module": "@jupyter-widgets/controls",
          "model_name": "HBoxModel",
          "state": {
            "_view_name": "HBoxView",
            "_dom_classes": [],
            "_model_name": "HBoxModel",
            "_view_module": "@jupyter-widgets/controls",
            "_model_module_version": "1.5.0",
            "_view_count": null,
            "_view_module_version": "1.5.0",
            "box_style": "",
            "layout": "IPY_MODEL_a2687e1fb8404333a5f2d0e30a0b14fb",
            "_model_module": "@jupyter-widgets/controls",
            "children": [
              "IPY_MODEL_e7a770cf10ec4ed792b7ae0a7f7a1092",
              "IPY_MODEL_a959c4cdb6514353816ec98a83f5ff34"
            ]
          }
        },
        "a2687e1fb8404333a5f2d0e30a0b14fb": {
          "model_module": "@jupyter-widgets/base",
          "model_name": "LayoutModel",
          "state": {
            "_view_name": "LayoutView",
            "grid_template_rows": null,
            "right": null,
            "justify_content": null,
            "_view_module": "@jupyter-widgets/base",
            "overflow": null,
            "_model_module_version": "1.2.0",
            "_view_count": null,
            "flex_flow": null,
            "width": null,
            "min_width": null,
            "border": null,
            "align_items": null,
            "bottom": null,
            "_model_module": "@jupyter-widgets/base",
            "top": null,
            "grid_column": null,
            "overflow_y": null,
            "overflow_x": null,
            "grid_auto_flow": null,
            "grid_area": null,
            "grid_template_columns": null,
            "flex": null,
            "_model_name": "LayoutModel",
            "justify_items": null,
            "grid_row": null,
            "max_height": null,
            "align_content": null,
            "visibility": null,
            "align_self": null,
            "height": null,
            "min_height": null,
            "padding": null,
            "grid_auto_rows": null,
            "grid_gap": null,
            "max_width": null,
            "order": null,
            "_view_module_version": "1.2.0",
            "grid_template_areas": null,
            "object_position": null,
            "object_fit": null,
            "grid_auto_columns": null,
            "margin": null,
            "display": null,
            "left": null
          }
        },
        "e7a770cf10ec4ed792b7ae0a7f7a1092": {
          "model_module": "@jupyter-widgets/controls",
          "model_name": "FloatProgressModel",
          "state": {
            "_view_name": "ProgressView",
            "style": "IPY_MODEL_4a7d5d1dccfe4fefa98ca3e71297184d",
            "_dom_classes": [],
            "description": "Pandas Apply: 100%",
            "_model_name": "FloatProgressModel",
            "bar_style": "success",
            "max": 870298,
            "_view_module": "@jupyter-widgets/controls",
            "_model_module_version": "1.5.0",
            "value": 870298,
            "_view_count": null,
            "_view_module_version": "1.5.0",
            "orientation": "horizontal",
            "min": 0,
            "description_tooltip": null,
            "_model_module": "@jupyter-widgets/controls",
            "layout": "IPY_MODEL_8d7d2f9f606e499cb40c0377a26e5c96"
          }
        },
        "a959c4cdb6514353816ec98a83f5ff34": {
          "model_module": "@jupyter-widgets/controls",
          "model_name": "HTMLModel",
          "state": {
            "_view_name": "HTMLView",
            "style": "IPY_MODEL_7a97ca08661d4cd3a7ac720cdf530005",
            "_dom_classes": [],
            "description": "",
            "_model_name": "HTMLModel",
            "placeholder": "​",
            "_view_module": "@jupyter-widgets/controls",
            "_model_module_version": "1.5.0",
            "value": " 870298/870298 [00:03&lt;00:00, 232403.46it/s]",
            "_view_count": null,
            "_view_module_version": "1.5.0",
            "description_tooltip": null,
            "_model_module": "@jupyter-widgets/controls",
            "layout": "IPY_MODEL_bce875afeaa24fb29306ab046b4dc75e"
          }
        },
        "4a7d5d1dccfe4fefa98ca3e71297184d": {
          "model_module": "@jupyter-widgets/controls",
          "model_name": "ProgressStyleModel",
          "state": {
            "_view_name": "StyleView",
            "_model_name": "ProgressStyleModel",
            "description_width": "initial",
            "_view_module": "@jupyter-widgets/base",
            "_model_module_version": "1.5.0",
            "_view_count": null,
            "_view_module_version": "1.2.0",
            "bar_color": null,
            "_model_module": "@jupyter-widgets/controls"
          }
        },
        "8d7d2f9f606e499cb40c0377a26e5c96": {
          "model_module": "@jupyter-widgets/base",
          "model_name": "LayoutModel",
          "state": {
            "_view_name": "LayoutView",
            "grid_template_rows": null,
            "right": null,
            "justify_content": null,
            "_view_module": "@jupyter-widgets/base",
            "overflow": null,
            "_model_module_version": "1.2.0",
            "_view_count": null,
            "flex_flow": null,
            "width": null,
            "min_width": null,
            "border": null,
            "align_items": null,
            "bottom": null,
            "_model_module": "@jupyter-widgets/base",
            "top": null,
            "grid_column": null,
            "overflow_y": null,
            "overflow_x": null,
            "grid_auto_flow": null,
            "grid_area": null,
            "grid_template_columns": null,
            "flex": null,
            "_model_name": "LayoutModel",
            "justify_items": null,
            "grid_row": null,
            "max_height": null,
            "align_content": null,
            "visibility": null,
            "align_self": null,
            "height": null,
            "min_height": null,
            "padding": null,
            "grid_auto_rows": null,
            "grid_gap": null,
            "max_width": null,
            "order": null,
            "_view_module_version": "1.2.0",
            "grid_template_areas": null,
            "object_position": null,
            "object_fit": null,
            "grid_auto_columns": null,
            "margin": null,
            "display": null,
            "left": null
          }
        },
        "7a97ca08661d4cd3a7ac720cdf530005": {
          "model_module": "@jupyter-widgets/controls",
          "model_name": "DescriptionStyleModel",
          "state": {
            "_view_name": "StyleView",
            "_model_name": "DescriptionStyleModel",
            "description_width": "",
            "_view_module": "@jupyter-widgets/base",
            "_model_module_version": "1.5.0",
            "_view_count": null,
            "_view_module_version": "1.2.0",
            "_model_module": "@jupyter-widgets/controls"
          }
        },
        "bce875afeaa24fb29306ab046b4dc75e": {
          "model_module": "@jupyter-widgets/base",
          "model_name": "LayoutModel",
          "state": {
            "_view_name": "LayoutView",
            "grid_template_rows": null,
            "right": null,
            "justify_content": null,
            "_view_module": "@jupyter-widgets/base",
            "overflow": null,
            "_model_module_version": "1.2.0",
            "_view_count": null,
            "flex_flow": null,
            "width": null,
            "min_width": null,
            "border": null,
            "align_items": null,
            "bottom": null,
            "_model_module": "@jupyter-widgets/base",
            "top": null,
            "grid_column": null,
            "overflow_y": null,
            "overflow_x": null,
            "grid_auto_flow": null,
            "grid_area": null,
            "grid_template_columns": null,
            "flex": null,
            "_model_name": "LayoutModel",
            "justify_items": null,
            "grid_row": null,
            "max_height": null,
            "align_content": null,
            "visibility": null,
            "align_self": null,
            "height": null,
            "min_height": null,
            "padding": null,
            "grid_auto_rows": null,
            "grid_gap": null,
            "max_width": null,
            "order": null,
            "_view_module_version": "1.2.0",
            "grid_template_areas": null,
            "object_position": null,
            "object_fit": null,
            "grid_auto_columns": null,
            "margin": null,
            "display": null,
            "left": null
          }
        },
        "e295607624b24aeca3715f03007a1e9d": {
          "model_module": "@jupyter-widgets/controls",
          "model_name": "HBoxModel",
          "state": {
            "_view_name": "HBoxView",
            "_dom_classes": [],
            "_model_name": "HBoxModel",
            "_view_module": "@jupyter-widgets/controls",
            "_model_module_version": "1.5.0",
            "_view_count": null,
            "_view_module_version": "1.5.0",
            "box_style": "",
            "layout": "IPY_MODEL_213801060a34452d8351c9ee1218a8ca",
            "_model_module": "@jupyter-widgets/controls",
            "children": [
              "IPY_MODEL_3cd53258a02e4c3d97bb25be251c66d9",
              "IPY_MODEL_e289d109c5324c239d0d4998da3d6051"
            ]
          }
        },
        "213801060a34452d8351c9ee1218a8ca": {
          "model_module": "@jupyter-widgets/base",
          "model_name": "LayoutModel",
          "state": {
            "_view_name": "LayoutView",
            "grid_template_rows": null,
            "right": null,
            "justify_content": null,
            "_view_module": "@jupyter-widgets/base",
            "overflow": null,
            "_model_module_version": "1.2.0",
            "_view_count": null,
            "flex_flow": null,
            "width": null,
            "min_width": null,
            "border": null,
            "align_items": null,
            "bottom": null,
            "_model_module": "@jupyter-widgets/base",
            "top": null,
            "grid_column": null,
            "overflow_y": null,
            "overflow_x": null,
            "grid_auto_flow": null,
            "grid_area": null,
            "grid_template_columns": null,
            "flex": null,
            "_model_name": "LayoutModel",
            "justify_items": null,
            "grid_row": null,
            "max_height": null,
            "align_content": null,
            "visibility": null,
            "align_self": null,
            "height": null,
            "min_height": null,
            "padding": null,
            "grid_auto_rows": null,
            "grid_gap": null,
            "max_width": null,
            "order": null,
            "_view_module_version": "1.2.0",
            "grid_template_areas": null,
            "object_position": null,
            "object_fit": null,
            "grid_auto_columns": null,
            "margin": null,
            "display": null,
            "left": null
          }
        },
        "3cd53258a02e4c3d97bb25be251c66d9": {
          "model_module": "@jupyter-widgets/controls",
          "model_name": "FloatProgressModel",
          "state": {
            "_view_name": "ProgressView",
            "style": "IPY_MODEL_df191d883d8b439ea39fec7331eb18ff",
            "_dom_classes": [],
            "description": "Pandas Apply: 100%",
            "_model_name": "FloatProgressModel",
            "bar_style": "success",
            "max": 870298,
            "_view_module": "@jupyter-widgets/controls",
            "_model_module_version": "1.5.0",
            "value": 870298,
            "_view_count": null,
            "_view_module_version": "1.5.0",
            "orientation": "horizontal",
            "min": 0,
            "description_tooltip": null,
            "_model_module": "@jupyter-widgets/controls",
            "layout": "IPY_MODEL_8aef8824f153483982ed58dc95a7c6fb"
          }
        },
        "e289d109c5324c239d0d4998da3d6051": {
          "model_module": "@jupyter-widgets/controls",
          "model_name": "HTMLModel",
          "state": {
            "_view_name": "HTMLView",
            "style": "IPY_MODEL_d658584816f54a2390d5429f91233e64",
            "_dom_classes": [],
            "description": "",
            "_model_name": "HTMLModel",
            "placeholder": "​",
            "_view_module": "@jupyter-widgets/controls",
            "_model_module_version": "1.5.0",
            "value": " 870298/870298 [00:17&lt;00:00, 48547.87it/s]",
            "_view_count": null,
            "_view_module_version": "1.5.0",
            "description_tooltip": null,
            "_model_module": "@jupyter-widgets/controls",
            "layout": "IPY_MODEL_4142a4989e8f44a1a7cc2fc6d79b8a63"
          }
        },
        "df191d883d8b439ea39fec7331eb18ff": {
          "model_module": "@jupyter-widgets/controls",
          "model_name": "ProgressStyleModel",
          "state": {
            "_view_name": "StyleView",
            "_model_name": "ProgressStyleModel",
            "description_width": "initial",
            "_view_module": "@jupyter-widgets/base",
            "_model_module_version": "1.5.0",
            "_view_count": null,
            "_view_module_version": "1.2.0",
            "bar_color": null,
            "_model_module": "@jupyter-widgets/controls"
          }
        },
        "8aef8824f153483982ed58dc95a7c6fb": {
          "model_module": "@jupyter-widgets/base",
          "model_name": "LayoutModel",
          "state": {
            "_view_name": "LayoutView",
            "grid_template_rows": null,
            "right": null,
            "justify_content": null,
            "_view_module": "@jupyter-widgets/base",
            "overflow": null,
            "_model_module_version": "1.2.0",
            "_view_count": null,
            "flex_flow": null,
            "width": null,
            "min_width": null,
            "border": null,
            "align_items": null,
            "bottom": null,
            "_model_module": "@jupyter-widgets/base",
            "top": null,
            "grid_column": null,
            "overflow_y": null,
            "overflow_x": null,
            "grid_auto_flow": null,
            "grid_area": null,
            "grid_template_columns": null,
            "flex": null,
            "_model_name": "LayoutModel",
            "justify_items": null,
            "grid_row": null,
            "max_height": null,
            "align_content": null,
            "visibility": null,
            "align_self": null,
            "height": null,
            "min_height": null,
            "padding": null,
            "grid_auto_rows": null,
            "grid_gap": null,
            "max_width": null,
            "order": null,
            "_view_module_version": "1.2.0",
            "grid_template_areas": null,
            "object_position": null,
            "object_fit": null,
            "grid_auto_columns": null,
            "margin": null,
            "display": null,
            "left": null
          }
        },
        "d658584816f54a2390d5429f91233e64": {
          "model_module": "@jupyter-widgets/controls",
          "model_name": "DescriptionStyleModel",
          "state": {
            "_view_name": "StyleView",
            "_model_name": "DescriptionStyleModel",
            "description_width": "",
            "_view_module": "@jupyter-widgets/base",
            "_model_module_version": "1.5.0",
            "_view_count": null,
            "_view_module_version": "1.2.0",
            "_model_module": "@jupyter-widgets/controls"
          }
        },
        "4142a4989e8f44a1a7cc2fc6d79b8a63": {
          "model_module": "@jupyter-widgets/base",
          "model_name": "LayoutModel",
          "state": {
            "_view_name": "LayoutView",
            "grid_template_rows": null,
            "right": null,
            "justify_content": null,
            "_view_module": "@jupyter-widgets/base",
            "overflow": null,
            "_model_module_version": "1.2.0",
            "_view_count": null,
            "flex_flow": null,
            "width": null,
            "min_width": null,
            "border": null,
            "align_items": null,
            "bottom": null,
            "_model_module": "@jupyter-widgets/base",
            "top": null,
            "grid_column": null,
            "overflow_y": null,
            "overflow_x": null,
            "grid_auto_flow": null,
            "grid_area": null,
            "grid_template_columns": null,
            "flex": null,
            "_model_name": "LayoutModel",
            "justify_items": null,
            "grid_row": null,
            "max_height": null,
            "align_content": null,
            "visibility": null,
            "align_self": null,
            "height": null,
            "min_height": null,
            "padding": null,
            "grid_auto_rows": null,
            "grid_gap": null,
            "max_width": null,
            "order": null,
            "_view_module_version": "1.2.0",
            "grid_template_areas": null,
            "object_position": null,
            "object_fit": null,
            "grid_auto_columns": null,
            "margin": null,
            "display": null,
            "left": null
          }
        }
      }
    }
  },
  "cells": [
    {
      "cell_type": "markdown",
      "metadata": {
        "id": "view-in-github",
        "colab_type": "text"
      },
      "source": [
        "<a href=\"https://colab.research.google.com/github/vldrud/for_rodin/blob/master/Rud_Vladyslav_Analyze_WorkUa.ipynb\" target=\"_parent\"><img src=\"https://colab.research.google.com/assets/colab-badge.svg\" alt=\"Open In Colab\"/></a>"
      ]
    },
    {
      "cell_type": "markdown",
      "metadata": {
        "id": "d6WrD8b_Jpm3"
      },
      "source": [
        "По этой ссылке находится полчаса жизни сайта Work.ua. \n",
        "\\Если не получится обработать все полчаса, можно ограничиться любым более коротким интервалом, кратным 5 минутам.\n",
        " Необходимо ознакомиться с данными, обработать их и ответить на приведенные вопросы. \n",
        "Ответ — это число (или набор чисел) и описание способа получения такого результата (можно в виде SQL-запросов).\n",
        "\n",
        "1. Сколько пользователей побывало на сайте?\n",
        "2. Сколько страниц эти пользователи посмотрели?\n",
        "3. Сколько человек пользовалось мобильным приложением Work.ua?\n",
        "4. Сколько к нам приходило разных парсеров и что они искали?\n",
        "5. Как распределены пользователи Android по версиям этой ОС?\n",
        "6. Какие самые распространенные источники трафика?\n",
        "7. Какой процент пользователей заходят с мобильных устройств, а какой — с десктопов?\n",
        "8. Сколько новых пользовательских сессий было создано за это время?\n",
        "9. Какую вакансию пользователи просматривали чаще всего?\n",
        "10. Какое минимальное, максимальное и среднее время выполнения запроса?"
      ]
    },
    {
      "cell_type": "markdown",
      "metadata": {
        "id": "zV8s0OKTJpnE"
      },
      "source": [
        "Plan:\n",
        "1. import libraries\n",
        "2. import datset\n",
        "3. Count users\n",
        "4. Count viewed pages\n",
        "5. Count phone users\n",
        "6. Count parsers and pop views\n",
        "7. Distribution of Android users per android's version\n",
        "8. Most popular traffic sourses\n",
        "9. Distribution of users per device\n",
        "10. How many new user's sessions?\n",
        "11. The popular position in work.ua\n",
        "12. Min, Max, Mean time of request\n",
        "13. Score"
      ]
    },
    {
      "cell_type": "markdown",
      "metadata": {
        "id": "id3eoGY0JpnF"
      },
      "source": [
        "#### 1. Import libraries"
      ]
    },
    {
      "cell_type": "code",
      "metadata": {
        "id": "S0hRkoeaJ4wf"
      },
      "source": [
        "!pip install user_agents\n",
        "!pip install swifter\n",
        "!pip install urllib3"
      ],
      "execution_count": null,
      "outputs": []
    },
    {
      "cell_type": "code",
      "metadata": {
        "id": "ohSN4BX0JpnG"
      },
      "source": [
        "import os\n",
        "import csv\n",
        "import re\n",
        "\n",
        "# for parsing the user-agent column\n",
        "import user_agents\n",
        "from user_agents import parse\n",
        "\n",
        "from urllib.parse import urlparse\n",
        "\n",
        "import numpy as np\n",
        "import pandas as pd\n",
        "\n",
        "# for optimizing the pandas apply function\n",
        "import swifter\n",
        "\n",
        "import matplotlib.pyplot as plt\n",
        "import matplotlib.ticker as ticker\n",
        "import seaborn as sns\n",
        "\n",
        "import scipy.stats as stats"
      ],
      "execution_count": 16,
      "outputs": []
    },
    {
      "cell_type": "markdown",
      "metadata": {
        "id": "gZBxZ_RDJpnH"
      },
      "source": [
        "#### 2. import dataset"
      ]
    },
    {
      "cell_type": "code",
      "metadata": {
        "scrolled": true,
        "colab": {
          "base_uri": "https://localhost:8080/"
        },
        "id": "PmBA3VGiJpnI",
        "outputId": "92fc252e-62d1-497f-d7da-e6db4a535fa6"
      },
      "source": [
        "# import data\n",
        "file = '/content/logs.csv'\n",
        "data = pd.read_csv(file, sep=',', header=None, verbose=True)\n",
        "\n",
        "# rename the columns from integers to good name\n",
        "data = data.rename(columns={ \n",
        "                    0 : 'ip', \n",
        "                    1 : 'date_event', \n",
        "                    2 : 'request',\n",
        "                    3 : 'url',\n",
        "                    4 : 'status',\n",
        "                    5 : 'column',\n",
        "                    6 : 'referrer', \n",
        "                    7 : 'user_agent',\n",
        "                    8 : 'req_time'\n",
        "                    })"
      ],
      "execution_count": 17,
      "outputs": [
        {
          "output_type": "stream",
          "text": [
            "Tokenization took: 122.43 ms\n",
            "Type conversion took: 102.03 ms\n",
            "Parser memory cleanup took: 0.01 ms\n",
            "Tokenization took: 79.97 ms\n",
            "Type conversion took: 94.70 ms\n",
            "Parser memory cleanup took: 0.01 ms\n",
            "Tokenization took: 80.10 ms\n",
            "Type conversion took: 92.17 ms\n",
            "Parser memory cleanup took: 0.01 ms\n",
            "Tokenization took: 84.91 ms\n",
            "Type conversion took: 98.32 ms\n",
            "Parser memory cleanup took: 0.01 ms\n",
            "Tokenization took: 80.55 ms\n",
            "Type conversion took: 98.92 ms\n",
            "Parser memory cleanup took: 0.01 ms\n",
            "Tokenization took: 77.60 ms\n",
            "Type conversion took: 105.98 ms\n",
            "Parser memory cleanup took: 0.01 ms\n",
            "Tokenization took: 83.56 ms\n",
            "Type conversion took: 102.53 ms\n",
            "Parser memory cleanup took: 0.01 ms\n",
            "Tokenization took: 78.96 ms\n",
            "Type conversion took: 103.96 ms\n",
            "Parser memory cleanup took: 0.01 ms\n",
            "Tokenization took: 78.59 ms\n",
            "Type conversion took: 97.86 ms\n",
            "Parser memory cleanup took: 0.01 ms\n",
            "Tokenization took: 80.33 ms\n",
            "Type conversion took: 98.99 ms\n",
            "Parser memory cleanup took: 0.01 ms\n",
            "Tokenization took: 78.07 ms\n",
            "Type conversion took: 100.65 ms\n",
            "Parser memory cleanup took: 0.01 ms\n",
            "Tokenization took: 78.53 ms\n",
            "Type conversion took: 99.83 ms\n",
            "Parser memory cleanup took: 0.01 ms\n",
            "Tokenization took: 87.95 ms\n",
            "Type conversion took: 102.69 ms\n",
            "Parser memory cleanup took: 0.01 ms\n",
            "Tokenization took: 22.31 ms\n",
            "Type conversion took: 28.08 ms\n",
            "Parser memory cleanup took: 0.01 ms\n"
          ],
          "name": "stdout"
        }
      ]
    },
    {
      "cell_type": "code",
      "metadata": {
        "colab": {
          "base_uri": "https://localhost:8080/",
          "height": 651
        },
        "id": "8QdrTeY6JpnK",
        "outputId": "f491be17-544d-4f38-d573-9696b4d9cbf0"
      },
      "source": [
        "# view the first 10 rows\n",
        "data.head(10)"
      ],
      "execution_count": 18,
      "outputs": [
        {
          "output_type": "execute_result",
          "data": {
            "text/html": [
              "<div>\n",
              "<style scoped>\n",
              "    .dataframe tbody tr th:only-of-type {\n",
              "        vertical-align: middle;\n",
              "    }\n",
              "\n",
              "    .dataframe tbody tr th {\n",
              "        vertical-align: top;\n",
              "    }\n",
              "\n",
              "    .dataframe thead th {\n",
              "        text-align: right;\n",
              "    }\n",
              "</style>\n",
              "<table border=\"1\" class=\"dataframe\">\n",
              "  <thead>\n",
              "    <tr style=\"text-align: right;\">\n",
              "      <th></th>\n",
              "      <th>ip</th>\n",
              "      <th>date_event</th>\n",
              "      <th>request</th>\n",
              "      <th>url</th>\n",
              "      <th>status</th>\n",
              "      <th>column</th>\n",
              "      <th>referrer</th>\n",
              "      <th>user_agent</th>\n",
              "      <th>req_time</th>\n",
              "    </tr>\n",
              "  </thead>\n",
              "  <tbody>\n",
              "    <tr>\n",
              "      <th>0</th>\n",
              "      <td>109.200.9.208</td>\n",
              "      <td>2021-04-12T12:00:00+03:00</td>\n",
              "      <td>GET</td>\n",
              "      <td>/_data/counter.php?&amp;b[0]=127&amp;nc[0]=1&amp;b[1]=770&amp;...</td>\n",
              "      <td>200</td>\n",
              "      <td>20</td>\n",
              "      <td>https://www.work.ua/ru/jobs/4068450/</td>\n",
              "      <td>Mozilla/5.0 (iPhone; CPU iPhone OS 12_5_1 like...</td>\n",
              "      <td>0.005</td>\n",
              "    </tr>\n",
              "    <tr>\n",
              "      <th>1</th>\n",
              "      <td>46.133.191.67</td>\n",
              "      <td>2021-04-12T12:00:00+03:00</td>\n",
              "      <td>GET</td>\n",
              "      <td>/_data/counter.php?&amp;b[0]=106&amp;nc[0]=1&amp;b[1]=761&amp;...</td>\n",
              "      <td>200</td>\n",
              "      <td>20</td>\n",
              "      <td>https://www.work.ua/ru/jobs/4291585/</td>\n",
              "      <td>Mozilla/5.0 (Linux; Android 11; SM-A705FN) App...</td>\n",
              "      <td>0.010</td>\n",
              "    </tr>\n",
              "    <tr>\n",
              "      <th>2</th>\n",
              "      <td>66.249.179.205</td>\n",
              "      <td>2021-04-12T12:00:00+03:00</td>\n",
              "      <td>GET</td>\n",
              "      <td>/en/jobs-other-beauty-sports-streamer/?categor...</td>\n",
              "      <td>200</td>\n",
              "      <td>15044</td>\n",
              "      <td>-</td>\n",
              "      <td>Mozilla/5.0 (Linux; Android 6.0.1; Nexus 5X Bu...</td>\n",
              "      <td>0.034</td>\n",
              "    </tr>\n",
              "    <tr>\n",
              "      <th>3</th>\n",
              "      <td>178.133.238.155</td>\n",
              "      <td>2021-04-12T12:00:00+03:00</td>\n",
              "      <td>POST</td>\n",
              "      <td>/social/fb-counter/</td>\n",
              "      <td>200</td>\n",
              "      <td>16</td>\n",
              "      <td>https://www.work.ua/ru/jobs/3169676/</td>\n",
              "      <td>Mozilla/5.0 (Linux; Android 10; M2007J3SG) App...</td>\n",
              "      <td>0.213</td>\n",
              "    </tr>\n",
              "    <tr>\n",
              "      <th>4</th>\n",
              "      <td>77.222.102.77</td>\n",
              "      <td>2021-04-12T12:00:00+03:00</td>\n",
              "      <td>POST</td>\n",
              "      <td>/social/fb-counter/</td>\n",
              "      <td>200</td>\n",
              "      <td>16</td>\n",
              "      <td>https://www.work.ua/jobs/3892446/</td>\n",
              "      <td>Mozilla/5.0 (Linux; Android 10; ART-L29; HMSCo...</td>\n",
              "      <td>0.009</td>\n",
              "    </tr>\n",
              "    <tr>\n",
              "      <th>5</th>\n",
              "      <td>176.37.204.153</td>\n",
              "      <td>2021-04-12T12:00:00+03:00</td>\n",
              "      <td>GET</td>\n",
              "      <td>/api/v1/notification/list/?beforeId=0&amp;limit=50</td>\n",
              "      <td>200</td>\n",
              "      <td>3098</td>\n",
              "      <td>-</td>\n",
              "      <td>Work.ua.mobileApp/1.3.7 (ios/14.4.2)</td>\n",
              "      <td>0.019</td>\n",
              "    </tr>\n",
              "    <tr>\n",
              "      <th>6</th>\n",
              "      <td>46.33.222.251</td>\n",
              "      <td>2021-04-12T12:00:00+03:00</td>\n",
              "      <td>POST</td>\n",
              "      <td>/api/v1/jobseeker/personal-feed/new/</td>\n",
              "      <td>200</td>\n",
              "      <td>71</td>\n",
              "      <td>-</td>\n",
              "      <td>Work.ua.mobileApp/1.3.7 (ios/14.4.2)</td>\n",
              "      <td>0.030</td>\n",
              "    </tr>\n",
              "    <tr>\n",
              "      <th>7</th>\n",
              "      <td>46.185.236.224</td>\n",
              "      <td>2021-04-12T12:00:00+03:00</td>\n",
              "      <td>POST</td>\n",
              "      <td>/ajax/jobseeker/my/personal-feed/new/</td>\n",
              "      <td>200</td>\n",
              "      <td>813</td>\n",
              "      <td>https://www.work.ua/ru/jobseeker/my/personal-f...</td>\n",
              "      <td>Mozilla/5.0 (Windows NT 10.0; Win64; x64) Appl...</td>\n",
              "      <td>0.087</td>\n",
              "    </tr>\n",
              "    <tr>\n",
              "      <th>8</th>\n",
              "      <td>195.64.21.222</td>\n",
              "      <td>2021-04-12T12:00:00+03:00</td>\n",
              "      <td>GET</td>\n",
              "      <td>/_data/_ajax/search-hint.php?search=%D1%82%D1%...</td>\n",
              "      <td>200</td>\n",
              "      <td>90</td>\n",
              "      <td>https://www.work.ua/ru/resumes/</td>\n",
              "      <td>Mozilla/5.0 (Windows NT 6.1; WOW64) AppleWebKi...</td>\n",
              "      <td>0.009</td>\n",
              "    </tr>\n",
              "    <tr>\n",
              "      <th>9</th>\n",
              "      <td>82.145.47.71</td>\n",
              "      <td>2021-04-12T12:00:00+03:00</td>\n",
              "      <td>GET</td>\n",
              "      <td>/_data/counter.php?b[0]=3364&amp;nc[0]=1&amp;rnd=60740...</td>\n",
              "      <td>200</td>\n",
              "      <td>31</td>\n",
              "      <td>https://www.work.ua/ru/jobs-ivano-frankivsk/?p...</td>\n",
              "      <td>Opera/9.80 (J2ME/MIDP; Opera Mini/4.5.33867/19...</td>\n",
              "      <td>0.002</td>\n",
              "    </tr>\n",
              "  </tbody>\n",
              "</table>\n",
              "</div>"
            ],
            "text/plain": [
              "                ip  ... req_time\n",
              "0    109.200.9.208  ...    0.005\n",
              "1    46.133.191.67  ...    0.010\n",
              "2   66.249.179.205  ...    0.034\n",
              "3  178.133.238.155  ...    0.213\n",
              "4    77.222.102.77  ...    0.009\n",
              "5   176.37.204.153  ...    0.019\n",
              "6    46.33.222.251  ...    0.030\n",
              "7   46.185.236.224  ...    0.087\n",
              "8    195.64.21.222  ...    0.009\n",
              "9     82.145.47.71  ...    0.002\n",
              "\n",
              "[10 rows x 9 columns]"
            ]
          },
          "metadata": {
            "tags": []
          },
          "execution_count": 18
        }
      ]
    },
    {
      "cell_type": "code",
      "metadata": {
        "colab": {
          "base_uri": "https://localhost:8080/",
          "height": 906
        },
        "id": "-D-vuOJDJpnK",
        "outputId": "ab6b022e-dd03-4a7c-8a0c-dfd3cd8e390a"
      },
      "source": [
        "# view the last 10 rows\n",
        "data.tail(10)"
      ],
      "execution_count": 19,
      "outputs": [
        {
          "output_type": "execute_result",
          "data": {
            "text/html": [
              "<div>\n",
              "<style scoped>\n",
              "    .dataframe tbody tr th:only-of-type {\n",
              "        vertical-align: middle;\n",
              "    }\n",
              "\n",
              "    .dataframe tbody tr th {\n",
              "        vertical-align: top;\n",
              "    }\n",
              "\n",
              "    .dataframe thead th {\n",
              "        text-align: right;\n",
              "    }\n",
              "</style>\n",
              "<table border=\"1\" class=\"dataframe\">\n",
              "  <thead>\n",
              "    <tr style=\"text-align: right;\">\n",
              "      <th></th>\n",
              "      <th>ip</th>\n",
              "      <th>date_event</th>\n",
              "      <th>request</th>\n",
              "      <th>url</th>\n",
              "      <th>status</th>\n",
              "      <th>column</th>\n",
              "      <th>referrer</th>\n",
              "      <th>user_agent</th>\n",
              "      <th>req_time</th>\n",
              "    </tr>\n",
              "  </thead>\n",
              "  <tbody>\n",
              "    <tr>\n",
              "      <th>870288</th>\n",
              "      <td>46.98.175.97</td>\n",
              "      <td>2021-04-12T12:29:59+03:00</td>\n",
              "      <td>GET</td>\n",
              "      <td>/ru/jobs-dnipro/?days=122&amp;page=19</td>\n",
              "      <td>200</td>\n",
              "      <td>24802</td>\n",
              "      <td>https://www.work.ua/ru/jobs/?region=34&amp;days=122</td>\n",
              "      <td>Mozilla/5.0 (Linux; Android 10; Redmi Note 7) ...</td>\n",
              "      <td>0.149</td>\n",
              "    </tr>\n",
              "    <tr>\n",
              "      <th>870289</th>\n",
              "      <td>151.236.254.240</td>\n",
              "      <td>2021-04-12T12:29:59+03:00</td>\n",
              "      <td>GET</td>\n",
              "      <td>/ru/resumes-kyiv-%D0%BC%D0%B5%D0%BD%D0%B5%D0%B...</td>\n",
              "      <td>200</td>\n",
              "      <td>21429</td>\n",
              "      <td>https://www.work.ua/ru/resumes/6967509/</td>\n",
              "      <td>Mozilla/5.0 (Windows NT 6.3; Win64; x64) Apple...</td>\n",
              "      <td>0.345</td>\n",
              "    </tr>\n",
              "    <tr>\n",
              "      <th>870290</th>\n",
              "      <td>45.140.134.31</td>\n",
              "      <td>2021-04-12T12:29:59+03:00</td>\n",
              "      <td>GET</td>\n",
              "      <td>/_data/_ajax/search-hint.php?search=%D0%BC%D0%...</td>\n",
              "      <td>200</td>\n",
              "      <td>478</td>\n",
              "      <td>https://www.work.ua/ru/resumes-odesa-%D0%BC%D0...</td>\n",
              "      <td>Mozilla/5.0 (Windows NT 10.0; Win64; x64) Appl...</td>\n",
              "      <td>0.038</td>\n",
              "    </tr>\n",
              "    <tr>\n",
              "      <th>870291</th>\n",
              "      <td>5.58.142.156</td>\n",
              "      <td>2021-04-12T12:29:59+03:00</td>\n",
              "      <td>POST</td>\n",
              "      <td>/_data/_ajax/cities.php</td>\n",
              "      <td>200</td>\n",
              "      <td>63</td>\n",
              "      <td>https://www.work.ua/jobs/</td>\n",
              "      <td>Mozilla/5.0 (Linux; Android 10; SM-A305FN) App...</td>\n",
              "      <td>0.026</td>\n",
              "    </tr>\n",
              "    <tr>\n",
              "      <th>870292</th>\n",
              "      <td>94.244.81.63</td>\n",
              "      <td>2021-04-12T12:29:59+03:00</td>\n",
              "      <td>GET</td>\n",
              "      <td>/jobs/4295629/</td>\n",
              "      <td>200</td>\n",
              "      <td>16679</td>\n",
              "      <td>https://www.work.ua/jobs-kyiv/?advs=1&amp;experien...</td>\n",
              "      <td>Mozilla/5.0 (Windows NT 10.0; Win64; x64) Appl...</td>\n",
              "      <td>0.063</td>\n",
              "    </tr>\n",
              "    <tr>\n",
              "      <th>870293</th>\n",
              "      <td>178.133.231.109</td>\n",
              "      <td>2021-04-12T12:29:59+03:00</td>\n",
              "      <td>GET</td>\n",
              "      <td>/favicon.ico</td>\n",
              "      <td>200</td>\n",
              "      <td>2395</td>\n",
              "      <td>-</td>\n",
              "      <td>Dalvik/2.1.0 (Linux; U; Android 7.1.1; MI MAX ...</td>\n",
              "      <td>0.000</td>\n",
              "    </tr>\n",
              "    <tr>\n",
              "      <th>870294</th>\n",
              "      <td>195.114.110.229</td>\n",
              "      <td>2021-04-12T12:29:59+03:00</td>\n",
              "      <td>GET</td>\n",
              "      <td>/jobseeker/my/</td>\n",
              "      <td>200</td>\n",
              "      <td>5449</td>\n",
              "      <td>https://www.work.ua/jobseeker/my/resumes/</td>\n",
              "      <td>Mozilla/5.0 (Windows NT 10.0; Win64; x64) Appl...</td>\n",
              "      <td>0.021</td>\n",
              "    </tr>\n",
              "    <tr>\n",
              "      <th>870295</th>\n",
              "      <td>88.155.239.227</td>\n",
              "      <td>2021-04-12T12:29:59+03:00</td>\n",
              "      <td>POST</td>\n",
              "      <td>/_data/_ajax/cities.php</td>\n",
              "      <td>200</td>\n",
              "      <td>62</td>\n",
              "      <td>https://www.work.ua/jobs/by-company/133403/</td>\n",
              "      <td>Mozilla/5.0 (Linux; Android 9; AMN-LX9) AppleW...</td>\n",
              "      <td>0.012</td>\n",
              "    </tr>\n",
              "    <tr>\n",
              "      <th>870296</th>\n",
              "      <td>188.163.145.235</td>\n",
              "      <td>2021-04-12T12:29:59+03:00</td>\n",
              "      <td>POST</td>\n",
              "      <td>/ajax/jobseeker/my/personal-feed/new/</td>\n",
              "      <td>200</td>\n",
              "      <td>4652</td>\n",
              "      <td>https://www.work.ua/ru/jobseeker/my/personal-f...</td>\n",
              "      <td>Mozilla/5.0 (Linux; Android 7.0; ASUS_X008DC B...</td>\n",
              "      <td>0.084</td>\n",
              "    </tr>\n",
              "    <tr>\n",
              "      <th>870297</th>\n",
              "      <td>91.218.60.110</td>\n",
              "      <td>2021-04-12T12:29:59+03:00</td>\n",
              "      <td>GET</td>\n",
              "      <td>/static/i/telegram@2x.png</td>\n",
              "      <td>200</td>\n",
              "      <td>3767</td>\n",
              "      <td>https://www.work.ua/jobs-brovary/?gclid=Cj0KCQ...</td>\n",
              "      <td>Mozilla/5.0 (Linux; Android 8.1.0; SM-J710F) A...</td>\n",
              "      <td>0.000</td>\n",
              "    </tr>\n",
              "  </tbody>\n",
              "</table>\n",
              "</div>"
            ],
            "text/plain": [
              "                     ip  ... req_time\n",
              "870288     46.98.175.97  ...    0.149\n",
              "870289  151.236.254.240  ...    0.345\n",
              "870290    45.140.134.31  ...    0.038\n",
              "870291     5.58.142.156  ...    0.026\n",
              "870292     94.244.81.63  ...    0.063\n",
              "870293  178.133.231.109  ...    0.000\n",
              "870294  195.114.110.229  ...    0.021\n",
              "870295   88.155.239.227  ...    0.012\n",
              "870296  188.163.145.235  ...    0.084\n",
              "870297    91.218.60.110  ...    0.000\n",
              "\n",
              "[10 rows x 9 columns]"
            ]
          },
          "metadata": {
            "tags": []
          },
          "execution_count": 19
        }
      ]
    },
    {
      "cell_type": "code",
      "metadata": {
        "colab": {
          "base_uri": "https://localhost:8080/",
          "height": 297
        },
        "id": "sM4BVTriJpnL",
        "outputId": "bc2767d4-0c81-4fb9-9f5f-d7d7b59ba2a0"
      },
      "source": [
        "data.describe()"
      ],
      "execution_count": 20,
      "outputs": [
        {
          "output_type": "execute_result",
          "data": {
            "text/html": [
              "<div>\n",
              "<style scoped>\n",
              "    .dataframe tbody tr th:only-of-type {\n",
              "        vertical-align: middle;\n",
              "    }\n",
              "\n",
              "    .dataframe tbody tr th {\n",
              "        vertical-align: top;\n",
              "    }\n",
              "\n",
              "    .dataframe thead th {\n",
              "        text-align: right;\n",
              "    }\n",
              "</style>\n",
              "<table border=\"1\" class=\"dataframe\">\n",
              "  <thead>\n",
              "    <tr style=\"text-align: right;\">\n",
              "      <th></th>\n",
              "      <th>status</th>\n",
              "      <th>column</th>\n",
              "      <th>req_time</th>\n",
              "    </tr>\n",
              "  </thead>\n",
              "  <tbody>\n",
              "    <tr>\n",
              "      <th>count</th>\n",
              "      <td>870298.000000</td>\n",
              "      <td>8.702980e+05</td>\n",
              "      <td>870298.000000</td>\n",
              "    </tr>\n",
              "    <tr>\n",
              "      <th>mean</th>\n",
              "      <td>210.983862</td>\n",
              "      <td>9.149978e+03</td>\n",
              "      <td>0.068614</td>\n",
              "    </tr>\n",
              "    <tr>\n",
              "      <th>std</th>\n",
              "      <td>44.520984</td>\n",
              "      <td>1.942861e+04</td>\n",
              "      <td>0.340362</td>\n",
              "    </tr>\n",
              "    <tr>\n",
              "      <th>min</th>\n",
              "      <td>200.000000</td>\n",
              "      <td>0.000000e+00</td>\n",
              "      <td>0.000000</td>\n",
              "    </tr>\n",
              "    <tr>\n",
              "      <th>25%</th>\n",
              "      <td>200.000000</td>\n",
              "      <td>2.500000e+01</td>\n",
              "      <td>0.010000</td>\n",
              "    </tr>\n",
              "    <tr>\n",
              "      <th>50%</th>\n",
              "      <td>200.000000</td>\n",
              "      <td>1.824000e+03</td>\n",
              "      <td>0.026000</td>\n",
              "    </tr>\n",
              "    <tr>\n",
              "      <th>75%</th>\n",
              "      <td>200.000000</td>\n",
              "      <td>1.391900e+04</td>\n",
              "      <td>0.068000</td>\n",
              "    </tr>\n",
              "    <tr>\n",
              "      <th>max</th>\n",
              "      <td>499.000000</td>\n",
              "      <td>1.044939e+06</td>\n",
              "      <td>92.645000</td>\n",
              "    </tr>\n",
              "  </tbody>\n",
              "</table>\n",
              "</div>"
            ],
            "text/plain": [
              "              status        column       req_time\n",
              "count  870298.000000  8.702980e+05  870298.000000\n",
              "mean      210.983862  9.149978e+03       0.068614\n",
              "std        44.520984  1.942861e+04       0.340362\n",
              "min       200.000000  0.000000e+00       0.000000\n",
              "25%       200.000000  2.500000e+01       0.010000\n",
              "50%       200.000000  1.824000e+03       0.026000\n",
              "75%       200.000000  1.391900e+04       0.068000\n",
              "max       499.000000  1.044939e+06      92.645000"
            ]
          },
          "metadata": {
            "tags": []
          },
          "execution_count": 20
        }
      ]
    },
    {
      "cell_type": "code",
      "metadata": {
        "colab": {
          "base_uri": "https://localhost:8080/"
        },
        "id": "_yfcMDQfJpnM",
        "outputId": "f7f8c678-85e1-44b4-c92b-3e6d549422e1"
      },
      "source": [
        "data[['ip', 'referrer', 'date_event', 'user_agent']].info()"
      ],
      "execution_count": 21,
      "outputs": [
        {
          "output_type": "stream",
          "text": [
            "<class 'pandas.core.frame.DataFrame'>\n",
            "RangeIndex: 870298 entries, 0 to 870297\n",
            "Data columns (total 4 columns):\n",
            " #   Column      Non-Null Count   Dtype \n",
            "---  ------      --------------   ----- \n",
            " 0   ip          870298 non-null  object\n",
            " 1   referrer    870298 non-null  object\n",
            " 2   date_event  870298 non-null  object\n",
            " 3   user_agent  870298 non-null  object\n",
            "dtypes: object(4)\n",
            "memory usage: 26.6+ MB\n"
          ],
          "name": "stdout"
        }
      ]
    },
    {
      "cell_type": "markdown",
      "metadata": {
        "id": "CF2xOki-JpnM"
      },
      "source": [
        "#### 3. Count users.  I make it by ip"
      ]
    },
    {
      "cell_type": "code",
      "metadata": {
        "colab": {
          "base_uri": "https://localhost:8080/"
        },
        "id": "inSK-s3rJpnN",
        "outputId": "b19e7872-a861-4705-fe78-24459a55d13b"
      },
      "source": [
        "count_users = data[['ip', 'request']].groupby(['ip'], ).count()\n",
        "print('num users: ', count_users.shape[0])"
      ],
      "execution_count": 22,
      "outputs": [
        {
          "output_type": "stream",
          "text": [
            "num users:  39074\n"
          ],
          "name": "stdout"
        }
      ]
    },
    {
      "cell_type": "markdown",
      "metadata": {
        "id": "7yxcz1HhJpnN"
      },
      "source": [
        "#### 4. Count viewed pages"
      ]
    },
    {
      "cell_type": "code",
      "metadata": {
        "colab": {
          "base_uri": "https://localhost:8080/"
        },
        "id": "aaTHCwWwJpnO",
        "outputId": "30e8ccdc-606e-422b-fc8c-615a030dd3f2"
      },
      "source": [
        "# grouping pages by url\n",
        "count_pages_url = data['url'].groupby(data['url']).count()\n",
        "\n",
        "# grouping pages by referrer\n",
        "work_ua_pages_referrer = data['referrer'][data['referrer'].str.find('work.ua') != -1]\n",
        "count_pages_referrer = work_ua_pages_referrer.groupby(work_ua_pages_referrer).count()\n",
        "\n",
        "# printing the count of all viewed pages\n",
        "print('viewed pages num:' , count_pages_referrer.shape[0] + count_pages_url.shape[0])"
      ],
      "execution_count": 23,
      "outputs": [
        {
          "output_type": "stream",
          "text": [
            "viewed pages num: 542130\n"
          ],
          "name": "stdout"
        }
      ]
    },
    {
      "cell_type": "markdown",
      "metadata": {
        "id": "togZE7sNJpnO"
      },
      "source": [
        "#### 5. Count phone users"
      ]
    },
    {
      "cell_type": "markdown",
      "metadata": {
        "id": "vwYsE0PVJpnP"
      },
      "source": [
        "At first, let's parse user-agent for finding: browser, device, is it a bot and versions of all of this"
      ]
    },
    {
      "cell_type": "code",
      "metadata": {
        "scrolled": true,
        "colab": {
          "base_uri": "https://localhost:8080/",
          "height": 1000,
          "referenced_widgets": [
            "2c394012cbec4081a55782dce030af11",
            "3afc2299e4ff414cac1bfd719d5137f3",
            "a7b17011a0464a7c8f48cb73a194d742",
            "60cd0a6e5cc34552a64f2c4d072ac2d1",
            "888c096073a94bb7af3e5843e7c701f3",
            "cb1b0edf92884f28b9fc2b5f3eefd67c",
            "a0d6ac6958874af3b041d31ee076d51b",
            "2dde9a5f843f46358210be5fef78bc8a",
            "f8a783eaf68f460bad00f51d56e3a252",
            "334dc36c94a54ea9896a0c24547334e1",
            "1a8ea99f99de4a7399a114d34233810f",
            "08451d99c3614691bcf327c2419eac20",
            "e99a2fce7ab84a81b42e99f658fcd296",
            "268f49068bfc4ccbabf856f3f73d1964",
            "c2ad1463c14c4a5fbf786a385f676d85",
            "248b8f93e4c846a7b0c86bd64ccacaed",
            "51bc048297fb4f62a5e711a27676e899",
            "5ea51ecadd754e178d19137545fbb888",
            "92707f3c46d945f8ab3203ff26d6e7b1",
            "936e6c1566194af58eb1e9a48bed2566",
            "246b8e5917ae424da0e0fd6bcb617ea5",
            "b453b0155e594ef08bd4f255b53c30e1",
            "cce27763fa55462dae2e259e29ded7f4",
            "17023c4f2e7d45888a8af27143f79524",
            "8f0fabaacaf545388332b2bd471b9d3b",
            "76f2f71494154224a6931d8a97d48d41",
            "7f8ac898dad445c28ea3fd51a346f84a",
            "5fa33f03db0d43608d0d7699080c7a53",
            "eeddc44fedde4ac88e4a6008aaff60b8",
            "58dfb1c20dc74966bfa34242a69486d4",
            "c15fadeca06e420fb42919a671bb9e0d",
            "f3848d12647642d3938dbbbbe382d80a",
            "7c9da2ab89a5463c8ddb9252ffa01802",
            "b3f28e13b06742c1bbddcb3c8c795118",
            "72b4388c9895488589e38b0008696004",
            "22353a9501124d6fa4db25c5ecb37375",
            "bd6bc146fb9e4e82b541982e7d18739a",
            "037e158db47543dea50df612d990418e",
            "bf3d69fcb2e7441b9a0390a9ec61fd75",
            "656bdefbf23d4d14ac2af0e25f1f2b35",
            "0b2eae0dc65b400da555c61f5245a7d2",
            "2b02a50cf3af4c65a2e9cac093db5f73",
            "ce3410e26f4644c5850d900d7219fbdd",
            "da57f5abb71d4210b5baf221c972d54b",
            "19178173c6f249278fa861737ac9d702",
            "638b7d0f31e64a39877dd5e4e5118aba",
            "bb807d896af346a6a42d4e1ea6517083",
            "df174170abdd4cdca2faf66707273eb1",
            "e2b61e85d88543448204fd1b5526ce97",
            "a2687e1fb8404333a5f2d0e30a0b14fb",
            "e7a770cf10ec4ed792b7ae0a7f7a1092",
            "a959c4cdb6514353816ec98a83f5ff34",
            "4a7d5d1dccfe4fefa98ca3e71297184d",
            "8d7d2f9f606e499cb40c0377a26e5c96",
            "7a97ca08661d4cd3a7ac720cdf530005",
            "bce875afeaa24fb29306ab046b4dc75e",
            "e295607624b24aeca3715f03007a1e9d",
            "213801060a34452d8351c9ee1218a8ca",
            "3cd53258a02e4c3d97bb25be251c66d9",
            "e289d109c5324c239d0d4998da3d6051",
            "df191d883d8b439ea39fec7331eb18ff",
            "8aef8824f153483982ed58dc95a7c6fb",
            "d658584816f54a2390d5429f91233e64",
            "4142a4989e8f44a1a7cc2fc6d79b8a63"
          ]
        },
        "id": "_fdKP2C-JpnP",
        "outputId": "bb16a865-72f6-46b6-be43-bc70716b8756"
      },
      "source": [
        "# initializing the functions for checking \n",
        "# bots\n",
        "def bot_check(string, verbose=False):\n",
        "    if verbose == True:\n",
        "        print(bot_check.__name__, len(string))\n",
        "    if string.is_bot:\n",
        "        return 1\n",
        "    else:\n",
        "        return 0\n",
        "\n",
        "# mobiles\n",
        "def mobile_check(string, verbose=False):\n",
        "    if verbose == True:\n",
        "        print(mobile_check.__name__, len(string))\n",
        "    if string.is_mobile:\n",
        "        return 1\n",
        "    else:\n",
        "        return 0    \n",
        "\n",
        "# pc\n",
        "def pc_check(string, verbose=False):\n",
        "    if verbose == True:\n",
        "        print(pc_check.__name__, len(string))\n",
        "    if string.is_pc:\n",
        "        return 1\n",
        "    else:\n",
        "        return 0\n",
        "\n",
        "# browser parser\n",
        "def parse_browser(string):\n",
        "    return string.browser.family\n",
        "\n",
        "# browser version parser\n",
        "def parse_browser_version(string):\n",
        "    return string.browser.version_string\n",
        "\n",
        "# os parser\n",
        "def parse_os(string):\n",
        "    return string.os.family\n",
        "\n",
        "# os version parser\n",
        "def parse_os_version(string):\n",
        "    return string.os.version_string\n",
        "\n",
        "# create the new var system data which contain ip and user-agent values    \n",
        "system_data = data[['ip', 'user_agent']]\n",
        "print('system data is created')\n",
        "\n",
        "# add new column 'parser' which contains user-agents parse objects\n",
        "# it is the most heavy part for time\n",
        "system_data['parser'] = system_data['user_agent'].swifter.apply(parse)\n",
        "print('parser is created')\n",
        "\n",
        "# adding new info from user_agent column\n",
        "# browser\n",
        "system_data['browser'] = system_data['parser'].swifter.apply(parse_browser)\n",
        "print('browser data is created')\n",
        "\n",
        "# browser version\n",
        "system_data['browser_version'] = system_data['parser'].swifter.apply(parse_browser_version)\n",
        "print('browser version data is created')\n",
        "\n",
        "# os\n",
        "system_data['os'] = system_data['parser'].swifter.apply(parse_os)\n",
        "print('os data is created')\n",
        "\n",
        "# os version\n",
        "system_data['os_version'] = system_data['parser'].swifter.apply(parse_os_version)\n",
        "print('os version data is created')\n",
        "\n",
        "# apply the initialized functions\n",
        "system_data['is_bot'] = system_data['parser'].swifter.apply(bot_check, verbose=False)\n",
        "system_data['is_mobile'] = system_data['parser'].swifter.apply(mobile_check, verbose=False)\n",
        "system_data['is_pc'] = system_data['parser'].swifter.apply(pc_check, verbose=False)\n"
      ],
      "execution_count": 24,
      "outputs": [
        {
          "output_type": "stream",
          "text": [
            "system data is created\n"
          ],
          "name": "stdout"
        },
        {
          "output_type": "display_data",
          "data": {
            "application/vnd.jupyter.widget-view+json": {
              "model_id": "2c394012cbec4081a55782dce030af11",
              "version_minor": 0,
              "version_major": 2
            },
            "text/plain": [
              "HBox(children=(FloatProgress(value=0.0, description='Pandas Apply', max=870298.0, style=ProgressStyle(descript…"
            ]
          },
          "metadata": {
            "tags": []
          }
        },
        {
          "output_type": "stream",
          "text": [
            "\n",
            "parser is created\n"
          ],
          "name": "stdout"
        },
        {
          "output_type": "stream",
          "text": [
            "/usr/local/lib/python3.7/dist-packages/ipykernel_launcher.py:51: SettingWithCopyWarning: \n",
            "A value is trying to be set on a copy of a slice from a DataFrame.\n",
            "Try using .loc[row_indexer,col_indexer] = value instead\n",
            "\n",
            "See the caveats in the documentation: https://pandas.pydata.org/pandas-docs/stable/user_guide/indexing.html#returning-a-view-versus-a-copy\n"
          ],
          "name": "stderr"
        },
        {
          "output_type": "display_data",
          "data": {
            "application/vnd.jupyter.widget-view+json": {
              "model_id": "f8a783eaf68f460bad00f51d56e3a252",
              "version_minor": 0,
              "version_major": 2
            },
            "text/plain": [
              "HBox(children=(FloatProgress(value=0.0, description='Pandas Apply', max=870298.0, style=ProgressStyle(descript…"
            ]
          },
          "metadata": {
            "tags": []
          }
        },
        {
          "output_type": "stream",
          "text": [
            "\n",
            "browser data is created\n"
          ],
          "name": "stdout"
        },
        {
          "output_type": "stream",
          "text": [
            "/usr/local/lib/python3.7/dist-packages/ipykernel_launcher.py:56: SettingWithCopyWarning: \n",
            "A value is trying to be set on a copy of a slice from a DataFrame.\n",
            "Try using .loc[row_indexer,col_indexer] = value instead\n",
            "\n",
            "See the caveats in the documentation: https://pandas.pydata.org/pandas-docs/stable/user_guide/indexing.html#returning-a-view-versus-a-copy\n"
          ],
          "name": "stderr"
        },
        {
          "output_type": "display_data",
          "data": {
            "application/vnd.jupyter.widget-view+json": {
              "model_id": "51bc048297fb4f62a5e711a27676e899",
              "version_minor": 0,
              "version_major": 2
            },
            "text/plain": [
              "HBox(children=(FloatProgress(value=0.0, description='Pandas Apply', max=870298.0, style=ProgressStyle(descript…"
            ]
          },
          "metadata": {
            "tags": []
          }
        },
        {
          "output_type": "stream",
          "text": [
            "\n",
            "browser version data is created\n"
          ],
          "name": "stdout"
        },
        {
          "output_type": "stream",
          "text": [
            "/usr/local/lib/python3.7/dist-packages/ipykernel_launcher.py:60: SettingWithCopyWarning: \n",
            "A value is trying to be set on a copy of a slice from a DataFrame.\n",
            "Try using .loc[row_indexer,col_indexer] = value instead\n",
            "\n",
            "See the caveats in the documentation: https://pandas.pydata.org/pandas-docs/stable/user_guide/indexing.html#returning-a-view-versus-a-copy\n"
          ],
          "name": "stderr"
        },
        {
          "output_type": "display_data",
          "data": {
            "application/vnd.jupyter.widget-view+json": {
              "model_id": "8f0fabaacaf545388332b2bd471b9d3b",
              "version_minor": 0,
              "version_major": 2
            },
            "text/plain": [
              "HBox(children=(FloatProgress(value=0.0, description='Pandas Apply', max=870298.0, style=ProgressStyle(descript…"
            ]
          },
          "metadata": {
            "tags": []
          }
        },
        {
          "output_type": "stream",
          "text": [
            "\n",
            "os data is created\n"
          ],
          "name": "stdout"
        },
        {
          "output_type": "stream",
          "text": [
            "/usr/local/lib/python3.7/dist-packages/ipykernel_launcher.py:64: SettingWithCopyWarning: \n",
            "A value is trying to be set on a copy of a slice from a DataFrame.\n",
            "Try using .loc[row_indexer,col_indexer] = value instead\n",
            "\n",
            "See the caveats in the documentation: https://pandas.pydata.org/pandas-docs/stable/user_guide/indexing.html#returning-a-view-versus-a-copy\n"
          ],
          "name": "stderr"
        },
        {
          "output_type": "display_data",
          "data": {
            "application/vnd.jupyter.widget-view+json": {
              "model_id": "7c9da2ab89a5463c8ddb9252ffa01802",
              "version_minor": 0,
              "version_major": 2
            },
            "text/plain": [
              "HBox(children=(FloatProgress(value=0.0, description='Pandas Apply', max=870298.0, style=ProgressStyle(descript…"
            ]
          },
          "metadata": {
            "tags": []
          }
        },
        {
          "output_type": "stream",
          "text": [
            "\n",
            "os version data is created\n"
          ],
          "name": "stdout"
        },
        {
          "output_type": "stream",
          "text": [
            "/usr/local/lib/python3.7/dist-packages/ipykernel_launcher.py:68: SettingWithCopyWarning: \n",
            "A value is trying to be set on a copy of a slice from a DataFrame.\n",
            "Try using .loc[row_indexer,col_indexer] = value instead\n",
            "\n",
            "See the caveats in the documentation: https://pandas.pydata.org/pandas-docs/stable/user_guide/indexing.html#returning-a-view-versus-a-copy\n"
          ],
          "name": "stderr"
        },
        {
          "output_type": "display_data",
          "data": {
            "application/vnd.jupyter.widget-view+json": {
              "model_id": "0b2eae0dc65b400da555c61f5245a7d2",
              "version_minor": 0,
              "version_major": 2
            },
            "text/plain": [
              "HBox(children=(FloatProgress(value=0.0, description='Pandas Apply', max=870298.0, style=ProgressStyle(descript…"
            ]
          },
          "metadata": {
            "tags": []
          }
        },
        {
          "output_type": "stream",
          "text": [
            "\n"
          ],
          "name": "stdout"
        },
        {
          "output_type": "stream",
          "text": [
            "/usr/local/lib/python3.7/dist-packages/ipykernel_launcher.py:72: SettingWithCopyWarning: \n",
            "A value is trying to be set on a copy of a slice from a DataFrame.\n",
            "Try using .loc[row_indexer,col_indexer] = value instead\n",
            "\n",
            "See the caveats in the documentation: https://pandas.pydata.org/pandas-docs/stable/user_guide/indexing.html#returning-a-view-versus-a-copy\n"
          ],
          "name": "stderr"
        },
        {
          "output_type": "display_data",
          "data": {
            "application/vnd.jupyter.widget-view+json": {
              "model_id": "e2b61e85d88543448204fd1b5526ce97",
              "version_minor": 0,
              "version_major": 2
            },
            "text/plain": [
              "HBox(children=(FloatProgress(value=0.0, description='Pandas Apply', max=870298.0, style=ProgressStyle(descript…"
            ]
          },
          "metadata": {
            "tags": []
          }
        },
        {
          "output_type": "stream",
          "text": [
            "\n"
          ],
          "name": "stdout"
        },
        {
          "output_type": "display_data",
          "data": {
            "application/vnd.jupyter.widget-view+json": {
              "model_id": "e295607624b24aeca3715f03007a1e9d",
              "version_minor": 0,
              "version_major": 2
            },
            "text/plain": [
              "HBox(children=(FloatProgress(value=0.0, description='Pandas Apply', max=870298.0, style=ProgressStyle(descript…"
            ]
          },
          "metadata": {
            "tags": []
          }
        },
        {
          "output_type": "stream",
          "text": [
            "\n"
          ],
          "name": "stdout"
        }
      ]
    },
    {
      "cell_type": "code",
      "metadata": {
        "colab": {
          "base_uri": "https://localhost:8080/",
          "height": 1000
        },
        "id": "joWGc1wiJpnR",
        "outputId": "c7e2b4b4-01ed-448f-98a3-6fdd56b6787f"
      },
      "source": [
        "# let's watch what table we give\n",
        "system_data"
      ],
      "execution_count": 25,
      "outputs": [
        {
          "output_type": "execute_result",
          "data": {
            "text/html": [
              "<div>\n",
              "<style scoped>\n",
              "    .dataframe tbody tr th:only-of-type {\n",
              "        vertical-align: middle;\n",
              "    }\n",
              "\n",
              "    .dataframe tbody tr th {\n",
              "        vertical-align: top;\n",
              "    }\n",
              "\n",
              "    .dataframe thead th {\n",
              "        text-align: right;\n",
              "    }\n",
              "</style>\n",
              "<table border=\"1\" class=\"dataframe\">\n",
              "  <thead>\n",
              "    <tr style=\"text-align: right;\">\n",
              "      <th></th>\n",
              "      <th>ip</th>\n",
              "      <th>user_agent</th>\n",
              "      <th>parser</th>\n",
              "      <th>browser</th>\n",
              "      <th>browser_version</th>\n",
              "      <th>os</th>\n",
              "      <th>os_version</th>\n",
              "      <th>is_bot</th>\n",
              "      <th>is_mobile</th>\n",
              "      <th>is_pc</th>\n",
              "    </tr>\n",
              "  </thead>\n",
              "  <tbody>\n",
              "    <tr>\n",
              "      <th>0</th>\n",
              "      <td>109.200.9.208</td>\n",
              "      <td>Mozilla/5.0 (iPhone; CPU iPhone OS 12_5_1 like...</td>\n",
              "      <td>iPhone / iOS 12.5.1 / Mobile Safari 12.1.2</td>\n",
              "      <td>Mobile Safari</td>\n",
              "      <td>12.1.2</td>\n",
              "      <td>iOS</td>\n",
              "      <td>12.5.1</td>\n",
              "      <td>0</td>\n",
              "      <td>1</td>\n",
              "      <td>0</td>\n",
              "    </tr>\n",
              "    <tr>\n",
              "      <th>1</th>\n",
              "      <td>46.133.191.67</td>\n",
              "      <td>Mozilla/5.0 (Linux; Android 11; SM-A705FN) App...</td>\n",
              "      <td>Samsung SM-A705FN / Android 11 / Chrome Mobile...</td>\n",
              "      <td>Chrome Mobile</td>\n",
              "      <td>89.0.4389</td>\n",
              "      <td>Android</td>\n",
              "      <td>11</td>\n",
              "      <td>0</td>\n",
              "      <td>1</td>\n",
              "      <td>0</td>\n",
              "    </tr>\n",
              "    <tr>\n",
              "      <th>2</th>\n",
              "      <td>66.249.179.205</td>\n",
              "      <td>Mozilla/5.0 (Linux; Android 6.0.1; Nexus 5X Bu...</td>\n",
              "      <td>Spider / Android 6.0.1 / Googlebot 2.1</td>\n",
              "      <td>Googlebot</td>\n",
              "      <td>2.1</td>\n",
              "      <td>Android</td>\n",
              "      <td>6.0.1</td>\n",
              "      <td>1</td>\n",
              "      <td>1</td>\n",
              "      <td>0</td>\n",
              "    </tr>\n",
              "    <tr>\n",
              "      <th>3</th>\n",
              "      <td>178.133.238.155</td>\n",
              "      <td>Mozilla/5.0 (Linux; Android 10; M2007J3SG) App...</td>\n",
              "      <td>M2007J3SG / Android 10 / Chrome Mobile 89.0.4389</td>\n",
              "      <td>Chrome Mobile</td>\n",
              "      <td>89.0.4389</td>\n",
              "      <td>Android</td>\n",
              "      <td>10</td>\n",
              "      <td>0</td>\n",
              "      <td>1</td>\n",
              "      <td>0</td>\n",
              "    </tr>\n",
              "    <tr>\n",
              "      <th>4</th>\n",
              "      <td>77.222.102.77</td>\n",
              "      <td>Mozilla/5.0 (Linux; Android 10; ART-L29; HMSCo...</td>\n",
              "      <td>Huawei Browser / Android 10 / Chrome 83.0.4103</td>\n",
              "      <td>Chrome</td>\n",
              "      <td>83.0.4103</td>\n",
              "      <td>Android</td>\n",
              "      <td>10</td>\n",
              "      <td>0</td>\n",
              "      <td>1</td>\n",
              "      <td>0</td>\n",
              "    </tr>\n",
              "    <tr>\n",
              "      <th>...</th>\n",
              "      <td>...</td>\n",
              "      <td>...</td>\n",
              "      <td>...</td>\n",
              "      <td>...</td>\n",
              "      <td>...</td>\n",
              "      <td>...</td>\n",
              "      <td>...</td>\n",
              "      <td>...</td>\n",
              "      <td>...</td>\n",
              "      <td>...</td>\n",
              "    </tr>\n",
              "    <tr>\n",
              "      <th>870293</th>\n",
              "      <td>178.133.231.109</td>\n",
              "      <td>Dalvik/2.1.0 (Linux; U; Android 7.1.1; MI MAX ...</td>\n",
              "      <td>XiaoMi MI MAX 2 / Android 7.1.1 / Android 7.1.1</td>\n",
              "      <td>Android</td>\n",
              "      <td>7.1.1</td>\n",
              "      <td>Android</td>\n",
              "      <td>7.1.1</td>\n",
              "      <td>0</td>\n",
              "      <td>0</td>\n",
              "      <td>0</td>\n",
              "    </tr>\n",
              "    <tr>\n",
              "      <th>870294</th>\n",
              "      <td>195.114.110.229</td>\n",
              "      <td>Mozilla/5.0 (Windows NT 10.0; Win64; x64) Appl...</td>\n",
              "      <td>PC / Windows 10 / Chrome 89.0.4389</td>\n",
              "      <td>Chrome</td>\n",
              "      <td>89.0.4389</td>\n",
              "      <td>Windows</td>\n",
              "      <td>10</td>\n",
              "      <td>0</td>\n",
              "      <td>0</td>\n",
              "      <td>1</td>\n",
              "    </tr>\n",
              "    <tr>\n",
              "      <th>870295</th>\n",
              "      <td>88.155.239.227</td>\n",
              "      <td>Mozilla/5.0 (Linux; Android 9; AMN-LX9) AppleW...</td>\n",
              "      <td>Huawei AMN-LX9 / Android 9 / Chrome Mobile 85....</td>\n",
              "      <td>Chrome Mobile</td>\n",
              "      <td>85.0.4183</td>\n",
              "      <td>Android</td>\n",
              "      <td>9</td>\n",
              "      <td>0</td>\n",
              "      <td>1</td>\n",
              "      <td>0</td>\n",
              "    </tr>\n",
              "    <tr>\n",
              "      <th>870296</th>\n",
              "      <td>188.163.145.235</td>\n",
              "      <td>Mozilla/5.0 (Linux; Android 7.0; ASUS_X008DC B...</td>\n",
              "      <td>Asus X008DC / Android 7.0 / Chrome Mobile 69.0...</td>\n",
              "      <td>Chrome Mobile</td>\n",
              "      <td>69.0.3497</td>\n",
              "      <td>Android</td>\n",
              "      <td>7.0</td>\n",
              "      <td>0</td>\n",
              "      <td>1</td>\n",
              "      <td>0</td>\n",
              "    </tr>\n",
              "    <tr>\n",
              "      <th>870297</th>\n",
              "      <td>91.218.60.110</td>\n",
              "      <td>Mozilla/5.0 (Linux; Android 8.1.0; SM-J710F) A...</td>\n",
              "      <td>Samsung SM-J710F / Android 8.1.0 / Chrome Mobi...</td>\n",
              "      <td>Chrome Mobile</td>\n",
              "      <td>89.0.4389</td>\n",
              "      <td>Android</td>\n",
              "      <td>8.1.0</td>\n",
              "      <td>0</td>\n",
              "      <td>1</td>\n",
              "      <td>0</td>\n",
              "    </tr>\n",
              "  </tbody>\n",
              "</table>\n",
              "<p>870298 rows × 10 columns</p>\n",
              "</div>"
            ],
            "text/plain": [
              "                     ip  ... is_pc\n",
              "0         109.200.9.208  ...     0\n",
              "1         46.133.191.67  ...     0\n",
              "2        66.249.179.205  ...     0\n",
              "3       178.133.238.155  ...     0\n",
              "4         77.222.102.77  ...     0\n",
              "...                 ...  ...   ...\n",
              "870293  178.133.231.109  ...     0\n",
              "870294  195.114.110.229  ...     1\n",
              "870295   88.155.239.227  ...     0\n",
              "870296  188.163.145.235  ...     0\n",
              "870297    91.218.60.110  ...     0\n",
              "\n",
              "[870298 rows x 10 columns]"
            ]
          },
          "metadata": {
            "tags": []
          },
          "execution_count": 25
        }
      ]
    },
    {
      "cell_type": "code",
      "metadata": {
        "colab": {
          "base_uri": "https://localhost:8080/"
        },
        "id": "s2VutapsJpnV",
        "outputId": "1c1bb6ca-6abd-422a-9454-5b48714c4cbc"
      },
      "source": [
        "# grouping user's by their ip, exclude the bots\n",
        "phone_users = system_data['ip'][\n",
        "    (system_data['is_mobile'] == 1) & \\\n",
        "    (system_data['is_bot'] == 0)].groupby(system_data['ip']).count()\n",
        "phone_users.sort_values(ascending=False)"
      ],
      "execution_count": 26,
      "outputs": [
        {
          "output_type": "execute_result",
          "data": {
            "text/plain": [
              "ip\n",
              "66.249.172.207    399\n",
              "66.249.172.209    375\n",
              "94.153.171.205    371\n",
              "185.11.227.131    367\n",
              "66.249.172.205    349\n",
              "                 ... \n",
              "212.9.16.21         1\n",
              "212.55.175.27       1\n",
              "212.3.146.217       1\n",
              "212.22.32.173       1\n",
              "102.176.161.90      1\n",
              "Name: ip, Length: 19529, dtype: int64"
            ]
          },
          "metadata": {
            "tags": []
          },
          "execution_count": 26
        }
      ]
    },
    {
      "cell_type": "code",
      "metadata": {
        "colab": {
          "base_uri": "https://localhost:8080/"
        },
        "id": "AhK8sq_xJpnW",
        "outputId": "314c41f1-503f-435a-b227-256c5ef03465"
      },
      "source": [
        "print('phone users num: ', phone_users.shape[0])"
      ],
      "execution_count": 27,
      "outputs": [
        {
          "output_type": "stream",
          "text": [
            "phone users num:  19529\n"
          ],
          "name": "stdout"
        }
      ]
    },
    {
      "cell_type": "markdown",
      "metadata": {
        "id": "OArEyqgIJpnW"
      },
      "source": [
        "#### 6. Count parsers and pop views\n",
        "\n",
        "From habr you can know that parsers are identifieds as bots. That's why let's found number of bots"
      ]
    },
    {
      "cell_type": "code",
      "metadata": {
        "colab": {
          "base_uri": "https://localhost:8080/"
        },
        "id": "u2BYbHXBJpnX",
        "outputId": "36b6648e-3789-4e8d-87b5-12ff8dd669a0"
      },
      "source": [
        "# grouping system_data by 'ip' for bot's counting\n",
        "bot_ip = system_data['ip'][system_data['is_bot'] == 1].groupby(system_data['ip']).count()\n",
        "\n",
        "# printing the bots ip\n",
        "bot_ip.sort_values(ascending=False)"
      ],
      "execution_count": 28,
      "outputs": [
        {
          "output_type": "execute_result",
          "data": {
            "text/plain": [
              "ip\n",
              "176.37.107.159    6062\n",
              "176.9.163.36      2660\n",
              "5.255.24.187      1518\n",
              "5.255.2.94        1495\n",
              "213.180.52.142    1403\n",
              "                  ... \n",
              "54.36.107.151        1\n",
              "40.77.65.94          1\n",
              "54.36.107.147        1\n",
              "40.77.66.112         1\n",
              "98.139.122.83        1\n",
              "Name: ip, Length: 1503, dtype: int64"
            ]
          },
          "metadata": {
            "tags": []
          },
          "execution_count": 28
        }
      ]
    },
    {
      "cell_type": "code",
      "metadata": {
        "colab": {
          "base_uri": "https://localhost:8080/"
        },
        "id": "Ev1NyWnPJpnX",
        "outputId": "41f50ff9-008c-4e8f-8c67-4cac5f7f3468"
      },
      "source": [
        "# printing the number of bots\n",
        "print('bots num: ', bot_ip.shape[0])"
      ],
      "execution_count": 29,
      "outputs": [
        {
          "output_type": "stream",
          "text": [
            "bots num:  1503\n"
          ],
          "name": "stdout"
        }
      ]
    },
    {
      "cell_type": "markdown",
      "metadata": {
        "id": "qaVNrR56JpnY"
      },
      "source": [
        "And find the most popular page for every bot"
      ]
    },
    {
      "cell_type": "code",
      "metadata": {
        "scrolled": true,
        "colab": {
          "base_uri": "https://localhost:8080/",
          "height": 359
        },
        "id": "oj6SDDcdJpnY",
        "outputId": "ee3476bd-171d-4413-f3e0-167ac6981932"
      },
      "source": [
        "### concate the urls and is_bot columns\n",
        "bot_urls = pd.concat([system_data['ip'], system_data['is_bot'], data['url'], system_data['browser']], axis=1)\n",
        "\n",
        "# filtering the bots\n",
        "bot_urls = bot_urls[bot_urls['is_bot'] == 1]\n",
        "\n",
        "# grouping by url for finding the most popular url for bots\n",
        "bot_urls = bot_urls['url'].groupby(bot_urls['url']).count().sort_values(ascending=False)\n",
        "bot_urls = pd.DataFrame(bot_urls).rename(columns={'url' : 'count'}).reset_index()\n",
        "\n",
        "# printing the top 10 urls for bots\n",
        "bot_urls[bot_urls['count'] > 10].head(10)"
      ],
      "execution_count": 30,
      "outputs": [
        {
          "output_type": "execute_result",
          "data": {
            "text/html": [
              "<div>\n",
              "<style scoped>\n",
              "    .dataframe tbody tr th:only-of-type {\n",
              "        vertical-align: middle;\n",
              "    }\n",
              "\n",
              "    .dataframe tbody tr th {\n",
              "        vertical-align: top;\n",
              "    }\n",
              "\n",
              "    .dataframe thead th {\n",
              "        text-align: right;\n",
              "    }\n",
              "</style>\n",
              "<table border=\"1\" class=\"dataframe\">\n",
              "  <thead>\n",
              "    <tr style=\"text-align: right;\">\n",
              "      <th></th>\n",
              "      <th>url</th>\n",
              "      <th>count</th>\n",
              "    </tr>\n",
              "  </thead>\n",
              "  <tbody>\n",
              "    <tr>\n",
              "      <th>0</th>\n",
              "      <td>/social/fb-counter/</td>\n",
              "      <td>1991</td>\n",
              "    </tr>\n",
              "    <tr>\n",
              "      <th>1</th>\n",
              "      <td>/export/informer/get_details.php?id=22</td>\n",
              "      <td>1095</td>\n",
              "    </tr>\n",
              "    <tr>\n",
              "      <th>2</th>\n",
              "      <td>/_data/_ajax/cities.php</td>\n",
              "      <td>1000</td>\n",
              "    </tr>\n",
              "    <tr>\n",
              "      <th>3</th>\n",
              "      <td>/export/informer/get_details.php?id=23</td>\n",
              "      <td>628</td>\n",
              "    </tr>\n",
              "    <tr>\n",
              "      <th>4</th>\n",
              "      <td>/export/informer/get_details.php?id=140</td>\n",
              "      <td>376</td>\n",
              "    </tr>\n",
              "    <tr>\n",
              "      <th>5</th>\n",
              "      <td>/export/informer/get_details.php?id=175</td>\n",
              "      <td>340</td>\n",
              "    </tr>\n",
              "    <tr>\n",
              "      <th>6</th>\n",
              "      <td>/favicon.ico</td>\n",
              "      <td>124</td>\n",
              "    </tr>\n",
              "    <tr>\n",
              "      <th>7</th>\n",
              "      <td>/b.php?bid=3238</td>\n",
              "      <td>123</td>\n",
              "    </tr>\n",
              "    <tr>\n",
              "      <th>8</th>\n",
              "      <td>/apple-touch-icon.png</td>\n",
              "      <td>122</td>\n",
              "    </tr>\n",
              "    <tr>\n",
              "      <th>9</th>\n",
              "      <td>/apple-touch-icon-precomposed.png</td>\n",
              "      <td>122</td>\n",
              "    </tr>\n",
              "  </tbody>\n",
              "</table>\n",
              "</div>"
            ],
            "text/plain": [
              "                                       url  count\n",
              "0                      /social/fb-counter/   1991\n",
              "1   /export/informer/get_details.php?id=22   1095\n",
              "2                  /_data/_ajax/cities.php   1000\n",
              "3   /export/informer/get_details.php?id=23    628\n",
              "4  /export/informer/get_details.php?id=140    376\n",
              "5  /export/informer/get_details.php?id=175    340\n",
              "6                             /favicon.ico    124\n",
              "7                          /b.php?bid=3238    123\n",
              "8                    /apple-touch-icon.png    122\n",
              "9        /apple-touch-icon-precomposed.png    122"
            ]
          },
          "metadata": {
            "tags": []
          },
          "execution_count": 30
        }
      ]
    },
    {
      "cell_type": "markdown",
      "metadata": {
        "id": "CerIRHd5JpnZ"
      },
      "source": [
        "#### 7. Distribution of Android users per android's version\n",
        "\n",
        "Bots are included in this calculations"
      ]
    },
    {
      "cell_type": "code",
      "metadata": {
        "colab": {
          "base_uri": "https://localhost:8080/"
        },
        "id": "5hNfpSHQJpnZ",
        "outputId": "a47290df-06bb-4b8e-f39c-5117d49369d8"
      },
      "source": [
        "# print the OS on site\n",
        "system_data['os'].unique()\n",
        "# omg Symbian??????"
      ],
      "execution_count": 31,
      "outputs": [
        {
          "output_type": "execute_result",
          "data": {
            "text/plain": [
              "array(['iOS', 'Android', 'Other', 'Windows', 'Mac OS X', 'Linux',\n",
              "       'Ubuntu', 'Windows Phone', 'Symbian OS', 'KaiOS', 'Chrome OS',\n",
              "       'Tizen', 'Fedora', 'FreeBSD'], dtype=object)"
            ]
          },
          "metadata": {
            "tags": []
          },
          "execution_count": 31
        }
      ]
    },
    {
      "cell_type": "code",
      "metadata": {
        "colab": {
          "base_uri": "https://localhost:8080/",
          "height": 1000
        },
        "id": "5mCjkVWqJpna",
        "outputId": "3b93770a-23ae-451b-9848-b47111f1b825"
      },
      "source": [
        "# printing the bar\n",
        "def plt_bar(x, y, grid=True, hight=12, weight=30, plotname='bar', xlabel='x', ylabel='y'):        \n",
        "    plt.figure(figsize=(weight, hight))\n",
        "    plt.grid(grid)\n",
        "    plt.bar(x, y)\n",
        "    plt.ylim(0, y.max())\n",
        "    plt.title(plotname, fontsize=weight)\n",
        "    plt.tight_layout(h_pad = -0.15, w_pad = -0.2)\n",
        "    # labels for every axis\n",
        "    plt.xlabel(xlabel, fontsize=weight-10)\n",
        "    plt.ylabel(ylabel, fontsize=weight-10)\n",
        "    # ticks\n",
        "    plt.tick_params(axis='x', labelsize=weight-10)\n",
        "    plt.tick_params(axis='y', labelsize=weight-10)\n",
        "    plt.show()\n",
        "    \n",
        "    \n",
        "# getting only android users\n",
        "version_users = system_data[['ip', 'os_version']][system_data['os'] == 'Android']\n",
        "\n",
        "# replace the the duplicate values\n",
        "version_users['os_version'] = version_users['os_version'].replace({\n",
        "                                                                    '10.0' : '10',\n",
        "                                                                    '9.0'  : '9',\n",
        "                                                                    '7.0.0' : '7.0',\n",
        "                                                                    '' : 'Nans'\n",
        "                                                                  })  \n",
        "# grouping by os_version and count all \n",
        "version_users = version_users.groupby('os_version', dropna=True).count()\n",
        "version_users = version_users.reset_index().rename(columns={'ip' : 'count'})\n",
        "\n",
        "# filtering version_users for getting more popular versions >1000\n",
        "popular_version_users = version_users[version_users['count'] >= 1000]\n",
        "\n",
        "# printing the histogram of distribution per version\n",
        "plt_bar(x=popular_version_users['os_version'], \n",
        "        y=popular_version_users['count'], \n",
        "        plotname='Distribution by Android version' , xlabel='Version', ylabel='Users')\n",
        "version_users  "
      ],
      "execution_count": 32,
      "outputs": [
        {
          "output_type": "display_data",
          "data": {
            "image/png": "[encoded data removed]",
            "text/plain": [
              "<Figure size 2160x864 with 1 Axes>"
            ]
          },
          "metadata": {
            "tags": [],
            "needs_background": "light"
          }
        },
        {
          "output_type": "execute_result",
          "data": {
            "text/html": [
              "<div>\n",
              "<style scoped>\n",
              "    .dataframe tbody tr th:only-of-type {\n",
              "        vertical-align: middle;\n",
              "    }\n",
              "\n",
              "    .dataframe tbody tr th {\n",
              "        vertical-align: top;\n",
              "    }\n",
              "\n",
              "    .dataframe thead th {\n",
              "        text-align: right;\n",
              "    }\n",
              "</style>\n",
              "<table border=\"1\" class=\"dataframe\">\n",
              "  <thead>\n",
              "    <tr style=\"text-align: right;\">\n",
              "      <th></th>\n",
              "      <th>os_version</th>\n",
              "      <th>count</th>\n",
              "    </tr>\n",
              "  </thead>\n",
              "  <tbody>\n",
              "    <tr>\n",
              "      <th>0</th>\n",
              "      <td>10</td>\n",
              "      <td>107307</td>\n",
              "    </tr>\n",
              "    <tr>\n",
              "      <th>1</th>\n",
              "      <td>11</td>\n",
              "      <td>22879</td>\n",
              "    </tr>\n",
              "    <tr>\n",
              "      <th>2</th>\n",
              "      <td>2.2</td>\n",
              "      <td>15</td>\n",
              "    </tr>\n",
              "    <tr>\n",
              "      <th>3</th>\n",
              "      <td>2.2.2</td>\n",
              "      <td>7</td>\n",
              "    </tr>\n",
              "    <tr>\n",
              "      <th>4</th>\n",
              "      <td>2.3.3</td>\n",
              "      <td>3</td>\n",
              "    </tr>\n",
              "    <tr>\n",
              "      <th>5</th>\n",
              "      <td>2.3.4</td>\n",
              "      <td>4</td>\n",
              "    </tr>\n",
              "    <tr>\n",
              "      <th>6</th>\n",
              "      <td>2.3.5</td>\n",
              "      <td>2</td>\n",
              "    </tr>\n",
              "    <tr>\n",
              "      <th>7</th>\n",
              "      <td>2.3.6</td>\n",
              "      <td>90</td>\n",
              "    </tr>\n",
              "    <tr>\n",
              "      <th>8</th>\n",
              "      <td>4.0.4</td>\n",
              "      <td>41</td>\n",
              "    </tr>\n",
              "    <tr>\n",
              "      <th>9</th>\n",
              "      <td>4.1</td>\n",
              "      <td>3</td>\n",
              "    </tr>\n",
              "    <tr>\n",
              "      <th>10</th>\n",
              "      <td>4.1.1</td>\n",
              "      <td>29</td>\n",
              "    </tr>\n",
              "    <tr>\n",
              "      <th>11</th>\n",
              "      <td>4.1.2</td>\n",
              "      <td>511</td>\n",
              "    </tr>\n",
              "    <tr>\n",
              "      <th>12</th>\n",
              "      <td>4.2.1</td>\n",
              "      <td>1274</td>\n",
              "    </tr>\n",
              "    <tr>\n",
              "      <th>13</th>\n",
              "      <td>4.2.2</td>\n",
              "      <td>1007</td>\n",
              "    </tr>\n",
              "    <tr>\n",
              "      <th>14</th>\n",
              "      <td>4.3</td>\n",
              "      <td>47</td>\n",
              "    </tr>\n",
              "    <tr>\n",
              "      <th>15</th>\n",
              "      <td>4.4</td>\n",
              "      <td>16</td>\n",
              "    </tr>\n",
              "    <tr>\n",
              "      <th>16</th>\n",
              "      <td>4.4.2</td>\n",
              "      <td>2015</td>\n",
              "    </tr>\n",
              "    <tr>\n",
              "      <th>17</th>\n",
              "      <td>4.4.3</td>\n",
              "      <td>38</td>\n",
              "    </tr>\n",
              "    <tr>\n",
              "      <th>18</th>\n",
              "      <td>4.4.4</td>\n",
              "      <td>956</td>\n",
              "    </tr>\n",
              "    <tr>\n",
              "      <th>19</th>\n",
              "      <td>5.0</td>\n",
              "      <td>392</td>\n",
              "    </tr>\n",
              "    <tr>\n",
              "      <th>20</th>\n",
              "      <td>5.0.1</td>\n",
              "      <td>218</td>\n",
              "    </tr>\n",
              "    <tr>\n",
              "      <th>21</th>\n",
              "      <td>5.0.2</td>\n",
              "      <td>1527</td>\n",
              "    </tr>\n",
              "    <tr>\n",
              "      <th>22</th>\n",
              "      <td>5.1</td>\n",
              "      <td>6366</td>\n",
              "    </tr>\n",
              "    <tr>\n",
              "      <th>23</th>\n",
              "      <td>5.1.1</td>\n",
              "      <td>6591</td>\n",
              "    </tr>\n",
              "    <tr>\n",
              "      <th>24</th>\n",
              "      <td>6.0</td>\n",
              "      <td>5761</td>\n",
              "    </tr>\n",
              "    <tr>\n",
              "      <th>25</th>\n",
              "      <td>6.0.1</td>\n",
              "      <td>17818</td>\n",
              "    </tr>\n",
              "    <tr>\n",
              "      <th>26</th>\n",
              "      <td>7.0</td>\n",
              "      <td>14935</td>\n",
              "    </tr>\n",
              "    <tr>\n",
              "      <th>27</th>\n",
              "      <td>7.1.1</td>\n",
              "      <td>6281</td>\n",
              "    </tr>\n",
              "    <tr>\n",
              "      <th>28</th>\n",
              "      <td>7.1.2</td>\n",
              "      <td>8104</td>\n",
              "    </tr>\n",
              "    <tr>\n",
              "      <th>29</th>\n",
              "      <td>8.0.0</td>\n",
              "      <td>10633</td>\n",
              "    </tr>\n",
              "    <tr>\n",
              "      <th>30</th>\n",
              "      <td>8.1.0</td>\n",
              "      <td>20225</td>\n",
              "    </tr>\n",
              "    <tr>\n",
              "      <th>31</th>\n",
              "      <td>9</td>\n",
              "      <td>53442</td>\n",
              "    </tr>\n",
              "    <tr>\n",
              "      <th>32</th>\n",
              "      <td>Nans</td>\n",
              "      <td>469</td>\n",
              "    </tr>\n",
              "  </tbody>\n",
              "</table>\n",
              "</div>"
            ],
            "text/plain": [
              "   os_version   count\n",
              "0          10  107307\n",
              "1          11   22879\n",
              "2         2.2      15\n",
              "3       2.2.2       7\n",
              "4       2.3.3       3\n",
              "5       2.3.4       4\n",
              "6       2.3.5       2\n",
              "7       2.3.6      90\n",
              "8       4.0.4      41\n",
              "9         4.1       3\n",
              "10      4.1.1      29\n",
              "11      4.1.2     511\n",
              "12      4.2.1    1274\n",
              "13      4.2.2    1007\n",
              "14        4.3      47\n",
              "15        4.4      16\n",
              "16      4.4.2    2015\n",
              "17      4.4.3      38\n",
              "18      4.4.4     956\n",
              "19        5.0     392\n",
              "20      5.0.1     218\n",
              "21      5.0.2    1527\n",
              "22        5.1    6366\n",
              "23      5.1.1    6591\n",
              "24        6.0    5761\n",
              "25      6.0.1   17818\n",
              "26        7.0   14935\n",
              "27      7.1.1    6281\n",
              "28      7.1.2    8104\n",
              "29      8.0.0   10633\n",
              "30      8.1.0   20225\n",
              "31          9   53442\n",
              "32       Nans     469"
            ]
          },
          "metadata": {
            "tags": []
          },
          "execution_count": 32
        }
      ]
    },
    {
      "cell_type": "markdown",
      "metadata": {
        "id": "Idy0c7i1Jpna"
      },
      "source": [
        "#### 8. Most popular traffic sourses"
      ]
    },
    {
      "cell_type": "code",
      "metadata": {
        "colab": {
          "base_uri": "https://localhost:8080/"
        },
        "id": "oEhoSvMaJpnb",
        "outputId": "ca4d4bf5-c60a-4be2-8a23-60d8eaf65a1d"
      },
      "source": [
        "# take sample in which referrers don't contain work.ua\n",
        "traffic = data['referrer'][data['referrer'].str.find('work.ua') == -1]\n",
        "\n",
        "# parse the traffic var for finding the netloc \n",
        "traffic = traffic.apply(lambda x: urlparse(x).netloc)\n",
        "\n",
        "# print the top 20 popular traffic sourses\n",
        "traffic.groupby(traffic).count().sort_values(ascending=False).head(20)"
      ],
      "execution_count": 33,
      "outputs": [
        {
          "output_type": "execute_result",
          "data": {
            "text/plain": [
              "referrer\n",
              "                                           201365\n",
              "www.google.com                              29330\n",
              "www.google.com.ua                            3506\n",
              "secureurl.ukr.net                            2782\n",
              "com.google.android.gm                        1223\n",
              "mykharkov.info                                923\n",
              "mail.google.com                               271\n",
              "org.telegram.messenger                        255\n",
              "smartlab.com.ua                               225\n",
              "www.google.ru                                 211\n",
              "webmail.meta.ua                               211\n",
              "www.uarabota.com.ua                           206\n",
              "yandex.ua                                     174\n",
              "www.ukr.net                                   160\n",
              "mbox2.touch.i.ua                              158\n",
              "mail.rambler.ru                               146\n",
              "com.google.android.googlequicksearchbox       126\n",
              "googleads.g.doubleclick.net                   117\n",
              "dnepr.com                                     113\n",
              "angio.com.ua                                   98\n",
              "Name: referrer, dtype: int64"
            ]
          },
          "metadata": {
            "tags": []
          },
          "execution_count": 33
        }
      ]
    },
    {
      "cell_type": "markdown",
      "metadata": {
        "id": "UxWbvGwYJpnc"
      },
      "source": [
        "#### 9. Distribution users per device"
      ]
    },
    {
      "cell_type": "code",
      "metadata": {
        "colab": {
          "base_uri": "https://localhost:8080/"
        },
        "id": "ZwA6tMggJpnc",
        "outputId": "ac8aeded-1a64-4ca6-8239-9d6bb8650c7d"
      },
      "source": [
        "# the number of pc users\n",
        "num_pc_users = system_data['ip'][\n",
        "                                (system_data['is_pc'] == 1) & \n",
        "                                (system_data['is_bot'] == 0)].groupby(system_data['ip']).count().shape[0]\n",
        "\n",
        "# the number of phone users\n",
        "num_mobile_users = phone_users.shape[0]\n",
        "\n",
        "# the number of bots\n",
        "num_bots = bot_ip.shape[0]\n",
        "\n",
        "# full number of users\n",
        "num_users = count_users.shape[0]\n",
        "\n",
        "# printing the result\n",
        "print(' percent pc-users: ', np.round(num_pc_users / (num_users - num_bots) * 100, 0),'%','\\n', \n",
        "      'percent mobile-users: ', np.round(num_mobile_users / (num_users - num_bots) * 100, 0),'%','\\n')\n",
        "print(' num pc-users: ', num_pc_users, '\\n', \n",
        "      'num mobile-users: ', num_mobile_users, '\\n',\n",
        "      'num bots: ', num_bots, '\\n',\n",
        "      'full num users: ', num_users)"
      ],
      "execution_count": 34,
      "outputs": [
        {
          "output_type": "stream",
          "text": [
            " percent pc-users:  37.0 % \n",
            " percent mobile-users:  52.0 % \n",
            "\n",
            " num pc-users:  13898 \n",
            " num mobile-users:  19529 \n",
            " num bots:  1503 \n",
            " full num users:  39074\n"
          ],
          "name": "stdout"
        }
      ]
    },
    {
      "cell_type": "markdown",
      "metadata": {
        "id": "G3Sx0ZExJpnd"
      },
      "source": [
        "The other percent - maybe are tablets"
      ]
    },
    {
      "cell_type": "markdown",
      "metadata": {
        "id": "DSOeoFvSJpnd"
      },
      "source": [
        "#### 10. The number of user's sessions\n",
        "\n",
        "-"
      ]
    },
    {
      "cell_type": "markdown",
      "metadata": {
        "id": "v3H40op-Jpnd"
      },
      "source": [
        "#### 11. The most popular job"
      ]
    },
    {
      "cell_type": "code",
      "metadata": {
        "colab": {
          "base_uri": "https://localhost:8080/",
          "height": 419
        },
        "id": "Km-PjCUhJpne",
        "outputId": "1e639c6e-8f02-422c-d069-d22bd5d067c9"
      },
      "source": [
        "# parse url by sent CV \n",
        "jobs = data[['url', 'request']][(data['url'].str.find('jobseeker/my/resumes/sent/') != -1)]\n",
        "\n",
        "# parse for getting id of job\n",
        "jobs['job_id'] = jobs['url'].apply(lambda x: re.search('\\d+', x).group(0))\n",
        "jobs"
      ],
      "execution_count": 35,
      "outputs": [
        {
          "output_type": "execute_result",
          "data": {
            "text/html": [
              "<div>\n",
              "<style scoped>\n",
              "    .dataframe tbody tr th:only-of-type {\n",
              "        vertical-align: middle;\n",
              "    }\n",
              "\n",
              "    .dataframe tbody tr th {\n",
              "        vertical-align: top;\n",
              "    }\n",
              "\n",
              "    .dataframe thead th {\n",
              "        text-align: right;\n",
              "    }\n",
              "</style>\n",
              "<table border=\"1\" class=\"dataframe\">\n",
              "  <thead>\n",
              "    <tr style=\"text-align: right;\">\n",
              "      <th></th>\n",
              "      <th>url</th>\n",
              "      <th>request</th>\n",
              "      <th>job_id</th>\n",
              "    </tr>\n",
              "  </thead>\n",
              "  <tbody>\n",
              "    <tr>\n",
              "      <th>14</th>\n",
              "      <td>/ru/jobseeker/my/resumes/sent/?job_id=3901907</td>\n",
              "      <td>GET</td>\n",
              "      <td>3901907</td>\n",
              "    </tr>\n",
              "    <tr>\n",
              "      <th>730</th>\n",
              "      <td>/jobseeker/my/resumes/sent/?job_id=4242049</td>\n",
              "      <td>GET</td>\n",
              "      <td>4242049</td>\n",
              "    </tr>\n",
              "    <tr>\n",
              "      <th>1003</th>\n",
              "      <td>/ru/jobseeker/my/resumes/sent/?job_id=4059450</td>\n",
              "      <td>GET</td>\n",
              "      <td>4059450</td>\n",
              "    </tr>\n",
              "    <tr>\n",
              "      <th>1913</th>\n",
              "      <td>/jobseeker/my/resumes/sent/?job_id=4291340</td>\n",
              "      <td>GET</td>\n",
              "      <td>4291340</td>\n",
              "    </tr>\n",
              "    <tr>\n",
              "      <th>2811</th>\n",
              "      <td>/ru/jobseeker/my/resumes/sent/?job_id=4263423</td>\n",
              "      <td>GET</td>\n",
              "      <td>4263423</td>\n",
              "    </tr>\n",
              "    <tr>\n",
              "      <th>...</th>\n",
              "      <td>...</td>\n",
              "      <td>...</td>\n",
              "      <td>...</td>\n",
              "    </tr>\n",
              "    <tr>\n",
              "      <th>868332</th>\n",
              "      <td>/ru/jobseeker/my/resumes/sent/?job_id=4092612</td>\n",
              "      <td>GET</td>\n",
              "      <td>4092612</td>\n",
              "    </tr>\n",
              "    <tr>\n",
              "      <th>868707</th>\n",
              "      <td>/ru/jobseeker/my/resumes/sent/?job_id=4276727</td>\n",
              "      <td>GET</td>\n",
              "      <td>4276727</td>\n",
              "    </tr>\n",
              "    <tr>\n",
              "      <th>868810</th>\n",
              "      <td>/jobseeker/my/resumes/sent/?job_id=4272128</td>\n",
              "      <td>GET</td>\n",
              "      <td>4272128</td>\n",
              "    </tr>\n",
              "    <tr>\n",
              "      <th>869169</th>\n",
              "      <td>/ru/jobseeker/my/resumes/sent/?job_id=4291571</td>\n",
              "      <td>GET</td>\n",
              "      <td>4291571</td>\n",
              "    </tr>\n",
              "    <tr>\n",
              "      <th>869653</th>\n",
              "      <td>/ru/jobseeker/my/resumes/sent/?job_id=4288726</td>\n",
              "      <td>GET</td>\n",
              "      <td>4288726</td>\n",
              "    </tr>\n",
              "  </tbody>\n",
              "</table>\n",
              "<p>2464 rows × 3 columns</p>\n",
              "</div>"
            ],
            "text/plain": [
              "                                                  url request   job_id\n",
              "14      /ru/jobseeker/my/resumes/sent/?job_id=3901907     GET  3901907\n",
              "730        /jobseeker/my/resumes/sent/?job_id=4242049     GET  4242049\n",
              "1003    /ru/jobseeker/my/resumes/sent/?job_id=4059450     GET  4059450\n",
              "1913       /jobseeker/my/resumes/sent/?job_id=4291340     GET  4291340\n",
              "2811    /ru/jobseeker/my/resumes/sent/?job_id=4263423     GET  4263423\n",
              "...                                               ...     ...      ...\n",
              "868332  /ru/jobseeker/my/resumes/sent/?job_id=4092612     GET  4092612\n",
              "868707  /ru/jobseeker/my/resumes/sent/?job_id=4276727     GET  4276727\n",
              "868810     /jobseeker/my/resumes/sent/?job_id=4272128     GET  4272128\n",
              "869169  /ru/jobseeker/my/resumes/sent/?job_id=4291571     GET  4291571\n",
              "869653  /ru/jobseeker/my/resumes/sent/?job_id=4288726     GET  4288726\n",
              "\n",
              "[2464 rows x 3 columns]"
            ]
          },
          "metadata": {
            "tags": []
          },
          "execution_count": 35
        }
      ]
    },
    {
      "cell_type": "code",
      "metadata": {
        "colab": {
          "base_uri": "https://localhost:8080/"
        },
        "id": "MX3uhy2-Jpne",
        "outputId": "9c555293-618f-4059-f345-d7257dbe6406"
      },
      "source": [
        "# we need a parse a site for getting full information about position id\n",
        "jobs['job_id'].groupby(jobs['job_id']).count().sort_values(ascending=False)"
      ],
      "execution_count": 36,
      "outputs": [
        {
          "output_type": "execute_result",
          "data": {
            "text/plain": [
              "job_id\n",
              "4295046    13\n",
              "3877908     7\n",
              "4295351     6\n",
              "4281963     5\n",
              "4295374     5\n",
              "           ..\n",
              "4272120     1\n",
              "4272128     1\n",
              "4272140     1\n",
              "4272161     1\n",
              "1022656     1\n",
              "Name: job_id, Length: 2108, dtype: int64"
            ]
          },
          "metadata": {
            "tags": []
          },
          "execution_count": 36
        }
      ]
    },
    {
      "cell_type": "markdown",
      "metadata": {
        "id": "mVHoeqlXJpnf"
      },
      "source": [
        "Let's watch the popular position in this 30 min's period "
      ]
    },
    {
      "cell_type": "markdown",
      "metadata": {
        "id": "UEYLfHt4Jpnf"
      },
      "source": [
        "![image.png](data:image/png;base64,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)"
      ]
    },
    {
      "cell_type": "markdown",
      "metadata": {
        "id": "C9PA0k5tJpnf"
      },
      "source": [
        "#### 12. Min, Max, Mean for each request"
      ]
    },
    {
      "cell_type": "markdown",
      "metadata": {
        "id": "6yX2GXanJpnf"
      },
      "source": [
        "Let's print the distribution of time for every request"
      ]
    },
    {
      "cell_type": "code",
      "metadata": {
        "id": "hg7VQu7sJpng"
      },
      "source": [
        "# procedure for printing the histogram\n",
        "def plot_plt_histogram(set_x, bins, grid=False, height=70, width=100, fontsize=30,\n",
        "                       need_xlim=False, xlim=1000, xmin=0,\n",
        "                       need_ylim=False, ylim=1000, ymin=0,\n",
        "                       xlabel='value', ylabel='num',\n",
        "                       hist_name='Histogram'):\n",
        "    # plotting the histogram\n",
        "    plt.figure(figsize=(width, height))\n",
        "    plt.hist(set_x, bins=bins)\n",
        "    if need_xlim == True:\n",
        "        plt.xlim(xmin, xlim)\n",
        "    if need_ylim == True:\n",
        "        plt.ylim(ymin, ylim)\n",
        "    plt.title(hist_name, fontsize=fontsize)\n",
        "    plt.grid(grid)\n",
        "    # labels for every axis\n",
        "    plt.xlabel(xlabel, fontsize=fontsize)\n",
        "    plt.ylabel(ylabel, fontsize=fontsize)\n",
        "    # ticks\n",
        "    plt.tick_params(axis='x', labelsize=fontsize)\n",
        "    plt.tick_params(axis='y', labelsize=fontsize)\n",
        "    plt.show()"
      ],
      "execution_count": 37,
      "outputs": []
    },
    {
      "cell_type": "code",
      "metadata": {
        "colab": {
          "base_uri": "https://localhost:8080/",
          "height": 532
        },
        "id": "esA1nBciJpng",
        "outputId": "7bc412c9-ca9d-4514-c148-ef47be97ca19"
      },
      "source": [
        "# sample with GET requests\n",
        "get_req_dist = data['req_time'][data['request'] == 'GET']\n",
        "\n",
        "# printing the histogram of req_time of GET request\n",
        "plot_plt_histogram(get_req_dist, bins=30000, hist_name='Histogram: Request == GET',\n",
        "                   grid=True, height=25, width=60, fontsize=40, xlabel='req_time', \n",
        "                   need_xlim=True, xmin=0, xlim=0.3)\n",
        "# printing the decribe statistic\n",
        "print(' min GET req_time: ',get_req_dist.min(), '\\n',\n",
        "       'max GET req_time: ',get_req_dist.max(), '\\n',\n",
        "       'mean GET req_time: ',get_req_dist.mean(), '\\n', \n",
        "       'median GET req_time: ',get_req_dist.median(), '\\n',\n",
        "       'mode GET req_time: ',get_req_dist.mode(), '\\n',)"
      ],
      "execution_count": 38,
      "outputs": [
        {
          "output_type": "display_data",
          "data": {
            "image/png": "[encoded data removed]",
            "text/plain": [
              "<Figure size 4320x1800 with 1 Axes>"
            ]
          },
          "metadata": {
            "tags": [],
            "needs_background": "light"
          }
        },
        {
          "output_type": "stream",
          "text": [
            " min GET req_time:  0.0 \n",
            " max GET req_time:  64.233 \n",
            " mean GET req_time:  0.06529404693328843 \n",
            " median GET req_time:  0.03 \n",
            " mode GET req_time:  0    0.008\n",
            "dtype: float64 \n",
            "\n"
          ],
          "name": "stdout"
        }
      ]
    },
    {
      "cell_type": "code",
      "metadata": {
        "colab": {
          "base_uri": "https://localhost:8080/",
          "height": 532
        },
        "id": "M1pqHiAeJpng",
        "outputId": "b3eb9bf1-9135-443e-e545-fa78d4fcc147"
      },
      "source": [
        "# sample with POST requests\n",
        "post_req_dist = data['req_time'][data['request'] == 'POST']\n",
        "\n",
        "# printing the histogram of req_time of POST request\n",
        "plot_plt_histogram(post_req_dist, bins=30000, hist_name='Histogram: Request == POST',\n",
        "                   grid=True, height=25, width=60, fontsize=40, xlabel='req_time', \n",
        "                   need_xlim=True, xmin=0, xlim=0.3)\n",
        "# printing the decribe statistic\n",
        "print(' min POST req_time: ',post_req_dist.min(), '\\n',\n",
        "       'max POST req_time: ',post_req_dist.max(), '\\n',\n",
        "       'mean POST req_time: ',post_req_dist.mean(), '\\n', \n",
        "       'median POST req_time: ',post_req_dist.median(), '\\n',\n",
        "       'mode POST req_time: ',post_req_dist.mode(), '\\n',)"
      ],
      "execution_count": 39,
      "outputs": [
        {
          "output_type": "display_data",
          "data": {
            "image/png": "[encoded data removed]",
            "text/plain": [
              "<Figure size 4320x1800 with 1 Axes>"
            ]
          },
          "metadata": {
            "tags": [],
            "needs_background": "light"
          }
        },
        {
          "output_type": "stream",
          "text": [
            " min POST req_time:  0.0 \n",
            " max POST req_time:  92.645 \n",
            " mean POST req_time:  0.0810242035657828 \n",
            " median POST req_time:  0.017 \n",
            " mode POST req_time:  0    0.008\n",
            "dtype: float64 \n",
            "\n"
          ],
          "name": "stdout"
        }
      ]
    },
    {
      "cell_type": "markdown",
      "metadata": {
        "id": "XCJEbYjqJpnh"
      },
      "source": [
        "# Score\n",
        "\n",
        "I solve 9/10 tasks and use two libraries for parsing the text data. My job is not ideal, but we can get any thinking about users and their technic details.\n",
        "\n",
        "Please give me a feedback about my executed job."
      ]
    }
  ]
}